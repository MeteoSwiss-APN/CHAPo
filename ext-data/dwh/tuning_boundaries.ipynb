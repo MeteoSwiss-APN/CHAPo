{
    "cells": [
        {
            "cell_type": "code",
            "execution_count": null,
            "source": [
                "renv::load(here::here())\n",
                "library(readr)\n",
                "library(dplyr)\n",
                "library(tidyr)\n",
                "library(stringr)\n",
                "library(magrittr)\n",
                "library(padr)\n",
                "library(kableExtra)\n",
                "library(purrr)\n",
                "library(ggplot2)\n",
                "library(ggthemr)\n",
                "library(here)\n",
                "library(lubridate)\n",
                "library(AeRobiology)\n",
                "\n",
                "ggthemr(\"fresh\")\n",
                "devtools::load_all()\n",
                "\n",
                "load(paste0(here(), \"/data/other/species.RData\"))\n",
                "load(paste0(here(), \"/data/other/stations.RData\"))\n",
                "species %<>%\n",
                "  mutate(fieldextra_taxon = str_replace_all(fieldextra_taxon, \"1\", \"24\"))\n",
                "data_dwh <- import_data_dwh(paste0(here(), \"/data/dwh/pollen_dwh_daily.txt\"))\n"
            ],
            "outputs": [],
            "metadata": {}
        },
        {
            "cell_type": "code",
            "execution_count": null,
            "source": [
                "pollen_split <- data_dwh %>%\n",
                "  filter(date >= as.Date(\"2010-01-01\"),\n",
                "         date <= as.Date(\"2020-12-31\")) %>%\n",
                "  mutate(year = year(date),\n",
                "         tuning_factor_orig = case_when(\n",
                "           taxon == \"Alnus\" ~ 0.34,\n",
                "           taxon == \"Betula\" ~ 0.63,\n",
                "           taxon == \"Poaceae\" ~ 0.26\n",
                "         )) %>%\n",
                "  select(taxon, station, year, datetime, value, tuning_factor_orig) %>%\n",
                "  split(.$taxon) %>%\n",
                "    map(~ .x %>% split(list(.$year, .$station)))"
            ],
            "outputs": [],
            "metadata": {}
        },
        {
            "cell_type": "code",
            "execution_count": null,
            "source": [
                "\n",
                "season_def_alnu <- map(pollen_split$Alnus, ~.x %>%\n",
                "  select(datetime, value) %>%\n",
                "  calculate_ps(\n",
                "    method = \"clinical\",\n",
                "    n.clinical = 5,\n",
                "    window.clinical = 7,\n",
                "    th.pollen = 10,\n",
                "    th.sum = 100,\n",
                "    plot = FALSE,\n",
                "    result = \"table\"\n",
                "  ))\n",
                "\n",
                "season_def_betu <- map(pollen_split$Betula, ~.x %>%\n",
                "  select(datetime, value) %>%\n",
                "  calculate_ps(\n",
                "    method = \"clinical\",\n",
                "    n.clinical = 5,\n",
                "    window.clinical = 7,\n",
                "    th.pollen = 10,\n",
                "    th.sum = 100,\n",
                "    plot = FALSE,\n",
                "    result = \"table\"\n",
                "  ))\n",
                "\n",
                "season_def_poac <- map(pollen_split$Poaceae, ~.x %>%\n",
                "  select(datetime, value) %>%\n",
                "  calculate_ps(\n",
                "    method = \"clinical\",\n",
                "    n.clinical = 5,\n",
                "    window.clinical = 7,\n",
                "    th.pollen = 3,\n",
                "    th.sum = 30,\n",
                "    plot = FALSE,\n",
                "    result = \"table\"\n",
                "  ))\n",
                "\n",
                "season_def <- c(season_def_alnu, season_def_betu, season_def_poac)\n",
                "\n",
                "season_start <- map(season_def, ~ .x$st.jd) %>% unlist\n",
                "season_end <- map(season_def, ~ .x$en.jd) %>% unlist\n",
                "\n",
                "pollen_clean <- unlist(pollen_split, recursive = FALSE)\n",
                "pollen_clean <- pollen_clean[-which(is.na(season_start))]\n",
                "season_start <- season_start[!is.na(season_start)]\n",
                "season_end <- season_end[!is.na(season_end)]\n",
                "\n",
                "pollen_in_season <- pmap(list(pollen_clean, season_start, season_end), ~\n",
                "..1 %>%\n",
                "  slice(..2:..3)) %>%\n",
                "  bind_rows()\n"
            ],
            "outputs": [],
            "metadata": {}
        },
        {
            "cell_type": "code",
            "execution_count": 39,
            "source": [
                "pollen_in_season %>%\n",
                "  group_by(taxon, station, tuning_factor_orig) %>%\n",
                "  mutate(average_season = sum(value, na.rm = TRUE) / length(unique(pollen_in_season$year))) %>%\n",
                "  group_by(taxon, station, year, tuning_factor_orig, average_season) %>%\n",
                "  summarise(current_season = sum(value, na.rm = TRUE)) %>%\n",
                "  ungroup() %>%\n",
                "  mutate(tuning_factor_current = tuning_factor_orig / average_season * current_season) %>%\n",
                "  group_by(taxon) %>%\n",
                "  summarise(max = max(tuning_factor_current),\n",
                "  min = min(tuning_factor_current))\n"
            ],
            "outputs": [
                {
                    "output_type": "stream",
                    "name": "stderr",
                    "text": [
                        "`summarise()` has grouped output by 'taxon', 'station', 'year', 'tuning_factor_orig'. You can override using the `.groups` argument.\n",
                        "\n"
                    ]
                },
                {
                    "output_type": "display_data",
                    "data": {
                        "text/plain": [
                            "  taxon   max       min       \n",
                            "1 Alnus   0.9602157 0.08875944\n",
                            "2 Betula  2.1239028 0.15532126\n",
                            "3 Poaceae 0.4061470 0.11698138"
                        ],
                        "text/markdown": [
                            "\n",
                            "A tibble: 3 × 3\n",
                            "\n",
                            "| <!--/--> | taxon &lt;chr&gt; | max &lt;dbl&gt; | min &lt;dbl&gt; |\n",
                            "|---|---|---|---|\n",
                            "| 1 | Alnus   | 0.9602157 | 0.08875944 |\n",
                            "| 2 | Betula  | 2.1239028 | 0.15532126 |\n",
                            "| 3 | Poaceae | 0.4061470 | 0.11698138 |\n",
                            "\n"
                        ],
                        "text/latex": [
                            "A tibble: 3 × 3\n",
                            "\\begin{tabular}{r|lll}\n",
                            "  & taxon & max & min\\\\\n",
                            "  & <chr> & <dbl> & <dbl>\\\\\n",
                            "\\hline\n",
                            "\t1 & Alnus   & 0.9602157 & 0.08875944\\\\\n",
                            "\t2 & Betula  & 2.1239028 & 0.15532126\\\\\n",
                            "\t3 & Poaceae & 0.4061470 & 0.11698138\\\\\n",
                            "\\end{tabular}\n"
                        ],
                        "text/html": [
                            "<table class=\"dataframe\">\n",
                            "<caption>A tibble: 3 × 3</caption>\n",
                            "<thead>\n",
                            "\t<tr><th></th><th scope=col>taxon</th><th scope=col>max</th><th scope=col>min</th></tr>\n",
                            "\t<tr><th></th><th scope=col>&lt;chr&gt;</th><th scope=col>&lt;dbl&gt;</th><th scope=col>&lt;dbl&gt;</th></tr>\n",
                            "</thead>\n",
                            "<tbody>\n",
                            "\t<tr><th scope=row>1</th><td>Alnus  </td><td>0.9602157</td><td>0.08875944</td></tr>\n",
                            "\t<tr><th scope=row>2</th><td>Betula </td><td>2.1239028</td><td>0.15532126</td></tr>\n",
                            "\t<tr><th scope=row>3</th><td>Poaceae</td><td>0.4061470</td><td>0.11698138</td></tr>\n",
                            "</tbody>\n",
                            "</table>\n"
                        ]
                    },
                    "metadata": {}
                }
            ],
            "metadata": {}
        }
    ],
    "metadata": {
        "orig_nbformat": 4,
        "language_info": {
            "name": "R",
            "codemirror_mode": "r",
            "pygments_lexer": "r",
            "mimetype": "text/x-r-source",
            "file_extension": ".r",
            "version": "4.0.3"
        },
        "kernelspec": {
            "name": "ir",
            "display_name": "R",
            "language": "R"
        },
        "interpreter": {
            "hash": "51b5ffe20b25f640f8d5b0bc1ffa7a332830de16ec7f9bbf425aec83484fc48a"
        }
    },
    "nbformat": 4,
    "nbformat_minor": 2
}