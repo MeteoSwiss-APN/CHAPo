{
 "cells": [
  {
   "cell_type": "code",
   "execution_count": 1,
   "metadata": {},
   "outputs": [
    {
     "name": "stderr",
     "output_type": "stream",
     "text": [
      "\n",
      "Attaching package: ‘dplyr’\n",
      "\n",
      "\n",
      "The following objects are masked from ‘package:stats’:\n",
      "\n",
      "    filter, lag\n",
      "\n",
      "\n",
      "The following objects are masked from ‘package:base’:\n",
      "\n",
      "    intersect, setdiff, setequal, union\n",
      "\n",
      "\n",
      "\n",
      "Attaching package: ‘magrittr’\n",
      "\n",
      "\n",
      "The following object is masked from ‘package:tidyr’:\n",
      "\n",
      "    extract\n",
      "\n",
      "\n",
      "\n",
      "Attaching package: ‘kableExtra’\n",
      "\n",
      "\n",
      "The following object is masked from ‘package:dplyr’:\n",
      "\n",
      "    group_rows\n",
      "\n",
      "\n",
      "\n",
      "Attaching package: ‘purrr’\n",
      "\n",
      "\n",
      "The following object is masked from ‘package:magrittr’:\n",
      "\n",
      "    set_names\n",
      "\n",
      "\n",
      "here() starts at /users/sadamov/RProjects/CHAPo\n",
      "\n",
      "\n",
      "Attaching package: ‘lubridate’\n",
      "\n",
      "\n",
      "The following objects are masked from ‘package:base’:\n",
      "\n",
      "    date, intersect, setdiff, union\n",
      "\n",
      "\n",
      "Loading CHAPo\n",
      "\n"
     ]
    }
   ],
   "source": [
    "library(readr)\n",
    "library(dplyr)\n",
    "library(tidyr)\n",
    "library(stringr)\n",
    "library(magrittr)\n",
    "library(padr)\n",
    "library(kableExtra)\n",
    "library(purrr)\n",
    "library(ggplot2)\n",
    "library(ggthemr)\n",
    "library(here)\n",
    "library(lubridate)\n",
    "# library(caret)\n",
    "# library(scales)\n",
    "ggthemr(\"fresh\")\n",
    "devtools::load_all()"
   ]
  },
  {
   "cell_type": "code",
   "execution_count": null,
   "metadata": {},
   "outputs": [],
   "source": [
    "load(paste0(here(), \"/data/other/species.RData\"))\n",
    "load(paste0(here(), \"/data/other/stations.RData\"))"
   ]
  },
  {
   "cell_type": "code",
   "execution_count": null,
   "metadata": {},
   "outputs": [],
   "source": [
    "\n",
    "\n",
    "data_dwh <- import_data_dwh(paste0(here(), \"/data/dwh/pollen_dwh_hourly.txt\")) %>%\n",
    "  aggregate_pollen() %>%\n",
    "  impute_daily()\n",
    "data_sdes <- import_data_cosmo(\"/scratch/sadamov/wd/20_poac_pheno_v2/mod_sdes_combined.txt\", type = \"Phenology V2\") %>%\n",
    "  aggregate_pollen() %>%\n",
    "  impute_daily()\n",
    "data_saisl <- import_data_cosmo(\"/scratch/sadamov/wd/20_poac_pheno_v2/mod_saisl_combined.txt\", type = \"Phenology V2\") %>%\n",
    "  aggregate_pollen() %>%\n",
    "  impute_daily()\n",
    "\n",
    "\n",
    "invisible(\n",
    "data_dwh %<>% filter(\n",
    "  between(date, min(data_sdes$date), max(data_sdes$date)),\n",
    "  taxon == unique(data_sdes$taxon)\n",
    "))\n",
    "\n",
    "data_pheno <- data_sdes %>%\n",
    "  select(date, station, sdes = value) %>%\n",
    "  left_join(data_saisl %>%\n",
    "    select(date, station, saisl = value),\n",
    "    by = c(\"date\", \"station\"))\n"
   ]
  },
  {
   "cell_type": "code",
   "execution_count": null,
   "metadata": {},
   "outputs": [],
   "source": [
    "curves_pheno <- data_pheno %>%\n",
    "  split(.$station) %>%\n",
    "  map(~ .x %>%\n",
    "    pmap(function(...) {\n",
    "      current <- tibble(...)\n",
    "      tibble(x = unique(data_pheno$date), value = current$sdes * current$saisl)\n",
    "    }) %>%\n",
    "    setNames(unique(data_pheno$date))\n",
    "  )\n",
    "str(curves_pheno)"
   ]
  },
  {
   "cell_type": "code",
   "execution_count": null,
   "metadata": {},
   "outputs": [],
   "source": [
    "data_dwh %>%\n",
    "  ggplot(aes(x = date)) +\n",
    "  geom_col(aes(y = value)) +\n",
    "  geom_line(data = data_pheno, aes(y = sdes), col = \"red\")"
   ]
  }
 ],
 "metadata": {
  "kernelspec": {
   "display_name": "R",
   "language": "R",
   "name": "ir"
  },
  "language_info": {
   "codemirror_mode": "r",
   "file_extension": ".r",
   "mimetype": "text/x-r-source",
   "name": "R",
   "pygments_lexer": "r",
   "version": "4.0.3"
  },
  "orig_nbformat": 2
 },
 "nbformat": 4,
 "nbformat_minor": 2
}