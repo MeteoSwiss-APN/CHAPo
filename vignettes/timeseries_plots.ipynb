{
 "cells": [
  {
   "cell_type": "markdown",
   "metadata": {},
   "source": [
    "Timeseries Plot For Multiple Model Builds"
   ]
  },
  {
   "cell_type": "code",
   "execution_count": 24,
   "metadata": {},
   "outputs": [
    {
     "name": "stderr",
     "output_type": "stream",
     "text": [
      "\n",
      "Attaching package: ‘lubridate’\n",
      "\n",
      "\n",
      "The following objects are masked from ‘package:base’:\n",
      "\n",
      "    date, intersect, setdiff, union\n",
      "\n",
      "\n",
      "Loading CHAPo\n",
      "\n"
     ]
    }
   ],
   "source": [
    "library(readr)\n",
    "library(dplyr)\n",
    "library(tidyr)\n",
    "library(stringr)\n",
    "library(ggplot2)\n",
    "library(ggthemr)\n",
    "library(here)\n",
    "library(lubridate)\n",
    "ggthemr(\"fresh\")\n",
    "devtools::load_all()\n"
   ]
  },
  {
   "cell_type": "code",
   "execution_count": 72,
   "metadata": {},
   "outputs": [],
   "source": [
    "# The following types are being modelled:\n",
    "# Erle - Alder - Aulne - Alnus\n",
    "# Birke - Birch - Bouleau - Betula\n",
    "# Gräser - Grasses - Graminées - Poaceae\n",
    "# Ambrosia - Ragweed - Ambroisie - Ambrosia\n",
    "\n",
    "species_all <- tibble(\n",
    "  taxon = c(\n",
    "    \"Castanea\",\n",
    "    \"Alnus\",\n",
    "    \"Ulmus\",\n",
    "    \"Cupressus\",\n",
    "    \"Fraxinus\",\n",
    "    \"Fagus\",\n",
    "    \"Juglans\",\n",
    "    \"Plantago\",\n",
    "    \"Corylus\",\n",
    "    \"Pinus\",\n",
    "    \"Quercus\",\n",
    "    \"Rumex\",\n",
    "    \"Platanus\",\n",
    "    \"Populus\",\n",
    "    \"Poaceae\",\n",
    "    \"Salix\",\n",
    "    \"Betula\",\n",
    "    \"Carpinus\",\n",
    "    \"Urtica\",\n",
    "    \"Taxus\",\n",
    "    \"Picea\",\n",
    "    \"Ambrosia\"\n",
    "  ),\n",
    "  hirst_taxon = c(\n",
    "    \"kacasth0\",\n",
    "    \"kaalnuh0\",\n",
    "    \"kaulmuh0\",\n",
    "    \"kacuprh0\",\n",
    "    \"kafraxh0\",\n",
    "    \"kafaguh0\",\n",
    "    \"kajuglh0\",\n",
    "    \"khplanh0\",\n",
    "    \"kacoryh0\",\n",
    "    \"kapinuh0\",\n",
    "    \"kaquerh0\",\n",
    "    \"khrumeh0\",\n",
    "    \"kaplath0\",\n",
    "    \"kapopuh0\",\n",
    "    \"khpoach0\",\n",
    "    \"kasalih0\",\n",
    "    \"kabetuh0\",\n",
    "    \"kacarph0\",\n",
    "    \"khurtih0\",\n",
    "    \"kataxuh0\",\n",
    "    \"kapiceh0\",\n",
    "    \"khambrh0\"\n",
    "  ),\n",
    "  cosmo_taxon = c(\n",
    "    NA_character_,\n",
    "    \"ALNU\",\n",
    "    NA_character_,\n",
    "    NA_character_,\n",
    "    NA_character_,\n",
    "    NA_character_,\n",
    "    NA_character_,\n",
    "    NA_character_,\n",
    "    NA_character_,\n",
    "    NA_character_,\n",
    "    NA_character_,\n",
    "    NA_character_,\n",
    "    NA_character_,\n",
    "    NA_character_,\n",
    "    \"POAC\",\n",
    "    NA_character_,\n",
    "    \"BETU\",\n",
    "    NA_character_,\n",
    "    NA_character_,\n",
    "    NA_character_,\n",
    "    NA_character_,\n",
    "    \"AMBR\"\n",
    "  ),\n",
    "  fieldextra_taxon = c(\n",
    "    NA_character_,\n",
    "    \"ALNU1\",\n",
    "    NA_character_,\n",
    "    NA_character_,\n",
    "    NA_character_,\n",
    "    NA_character_,\n",
    "    NA_character_,\n",
    "    NA_character_,\n",
    "    NA_character_,\n",
    "    NA_character_,\n",
    "    NA_character_,\n",
    "    NA_character_,\n",
    "    NA_character_,\n",
    "    NA_character_,\n",
    "    \"POAC1\",\n",
    "    NA_character_,\n",
    "    \"BETU1\",\n",
    "    NA_character_,\n",
    "    NA_character_,\n",
    "    NA_character_,\n",
    "    NA_character_,\n",
    "    \"AMBR1\"\n",
    "  )\n",
    ")\n",
    "\n",
    "species <- species_all %>%\n",
    "  filter(taxon %in% c(\"Alnus\", \"Ambrosia\", \"Betula\", \"Poaceae\"))\n",
    "\n",
    "stations <-\n",
    "  tibble(\n",
    "    hirst_station = c(\n",
    "      \"PDS\",\n",
    "      \"PBU\",\n",
    "      \"PMU\",\n",
    "      \"PBS\",\n",
    "      \"PZH\",\n",
    "      \"PLZ\",\n",
    "      \"PBE\",\n",
    "      # \"PPY\",\n",
    "      \"PNE\",\n",
    "      \"PVI\",\n",
    "      \"PLS\",\n",
    "      \"PGE\",\n",
    "      \"PCF\",\n",
    "      \"PLO\",\n",
    "      # \"BLR\",\n",
    "      \"PLU\"\n",
    "    ),\n",
    "    station = c(\n",
    "      \"Wolfgang\",\n",
    "      \"Buchs\",\n",
    "      \"Münsterlingen\",\n",
    "      \"Basel\",\n",
    "      \"Zürich\",\n",
    "      \"Luzern\",\n",
    "      \"Bern\",\n",
    "      # \"Payerne\",\n",
    "      \"Neuchâtel\",\n",
    "      \"Visp\",\n",
    "      \"Lausanne\",\n",
    "      \"Genève\",\n",
    "      \"La-Chaux-de-Fonds\",\n",
    "      \"Locarno\",\n",
    "      # \"Balerna\",\n",
    "      \"Lugano\"\n",
    "    ),\n",
    "    cosmo_station = c(\n",
    "      \"CHDAVO\",\n",
    "      \"CHBUCH\",\n",
    "      \"CHMUEN\",\n",
    "      \"CHBASE\",\n",
    "      \"CHZUER\",\n",
    "      \"CHLUZE\",\n",
    "      \"CHBERN\",\n",
    "      # NA_character_,\n",
    "      \"CHNEUC\",\n",
    "      \"CHVISP\",\n",
    "      \"CHLAUS\",\n",
    "      \"CHGENE\",\n",
    "      \"CHLACH\",\n",
    "      \"CHLOCA\",\n",
    "      # NA_character_,\n",
    "      \"CHLUGA\"\n",
    "    )\n",
    "  ) %>%\n",
    "  arrange(hirst_station)"
   ]
  },
  {
   "cell_type": "code",
   "execution_count": 73,
   "metadata": {},
   "outputs": [
    {
     "name": "stderr",
     "output_type": "stream",
     "text": [
      "\n",
      "\u001b[36m──\u001b[39m \u001b[1m\u001b[1mColumn specification\u001b[1m\u001b[22m \u001b[36m───────────────────────────────────────────────────────────────────────────────────────────────────────────────────\u001b[39m\n",
      "cols(\n",
      "  .default = col_double(),\n",
      "  PARAMETER = \u001b[31mcol_character()\u001b[39m\n",
      ")\n",
      "\u001b[36mℹ\u001b[39m Use \u001b[30m\u001b[47m\u001b[30m\u001b[47m`spec()`\u001b[47m\u001b[30m\u001b[49m\u001b[39m for the full column specifications.\n",
      "\n",
      "\n",
      "\n",
      "\u001b[36m──\u001b[39m \u001b[1m\u001b[1mColumn specification\u001b[1m\u001b[22m \u001b[36m───────────────────────────────────────────────────────────────────────────────────────────────────────────────────\u001b[39m\n",
      "cols(\n",
      "  .default = col_double(),\n",
      "  PARAMETER = \u001b[31mcol_character()\u001b[39m\n",
      ")\n",
      "\u001b[36mℹ\u001b[39m Use \u001b[30m\u001b[47m\u001b[30m\u001b[47m`spec()`\u001b[47m\u001b[30m\u001b[49m\u001b[39m for the full column specifications.\n",
      "\n",
      "\n",
      "\n",
      "\u001b[36m──\u001b[39m \u001b[1m\u001b[1mColumn specification\u001b[1m\u001b[22m \u001b[36m───────────────────────────────────────────────────────────────────────────────────────────────────────────────────\u001b[39m\n",
      "cols(\n",
      "  .default = col_double(),\n",
      "  PARAMETER = \u001b[31mcol_character()\u001b[39m\n",
      ")\n",
      "\u001b[36mℹ\u001b[39m Use \u001b[30m\u001b[47m\u001b[30m\u001b[47m`spec()`\u001b[47m\u001b[30m\u001b[49m\u001b[39m for the full column specifications.\n",
      "\n",
      "\n",
      "\n",
      "\u001b[36m──\u001b[39m \u001b[1m\u001b[1mColumn specification\u001b[1m\u001b[22m \u001b[36m───────────────────────────────────────────────────────────────────────────────────────────────────────────────────\u001b[39m\n",
      "cols(\n",
      "  .default = col_double(),\n",
      "  PARAMETER = \u001b[31mcol_character()\u001b[39m\n",
      ")\n",
      "\u001b[36mℹ\u001b[39m Use \u001b[30m\u001b[47m\u001b[30m\u001b[47m`spec()`\u001b[47m\u001b[30m\u001b[49m\u001b[39m for the full column specifications.\n",
      "\n",
      "\n"
     ]
    }
   ],
   "source": [
    "data_dwh <- read_delim(paste0(here(), \"/data/dwh/pollen_dwh_hourly.txt\"), delim = \" \", skip = 17)\n",
    "data_osm <- import_data(\"/scratch/sadamov/wd/20_alnu_osm/mod_pollen_combined.txt\", type = \"Operational\")\n",
    "data_assim <- import_data(\"/scratch/sadamov/wd/20_alnu_assim_v1/mod_pollen_combined.txt\", type = \"With Real-Time Data\")\n",
    "data_sdes <- import_data(\"/scratch/sadamov/wd/20_alnu_sdes_updated/mod_pollen_combined.txt\", type = \"With Real-Time Data and SDES-Update\")\n"
   ]
  },
  {
   "cell_type": "code",
   "execution_count": 74,
   "metadata": {},
   "outputs": [
    {
     "data": {
      "text/html": "<table class=\"dataframe\">\n<caption>A tibble: 6 × 8</caption>\n<thead>\n\t<tr><th scope=col>taxon</th><th scope=col>station</th><th scope=col>date</th><th scope=col>hour</th><th scope=col>value</th><th scope=col>datetime</th><th scope=col>type</th><th scope=col>measurement</th></tr>\n\t<tr><th scope=col>&lt;chr&gt;</th><th scope=col>&lt;chr&gt;</th><th scope=col>&lt;date&gt;</th><th scope=col>&lt;int&gt;</th><th scope=col>&lt;dbl&gt;</th><th scope=col>&lt;dttm&gt;</th><th scope=col>&lt;chr&gt;</th><th scope=col>&lt;chr&gt;</th></tr>\n</thead>\n<tbody>\n\t<tr><td>Alnus</td><td>Basel            </td><td>2020-01-01</td><td>1</td><td>0.0029297</td><td>2020-01-01 01:00:00</td><td>Operational</td><td>concentration</td></tr>\n\t<tr><td>Alnus</td><td>Bern             </td><td>2020-01-01</td><td>1</td><td>0.0141600</td><td>2020-01-01 01:00:00</td><td>Operational</td><td>concentration</td></tr>\n\t<tr><td>Alnus</td><td>Buchs            </td><td>2020-01-01</td><td>1</td><td>0.5019500</td><td>2020-01-01 01:00:00</td><td>Operational</td><td>concentration</td></tr>\n\t<tr><td>Alnus</td><td>Genève           </td><td>2020-01-01</td><td>1</td><td>0.2497600</td><td>2020-01-01 01:00:00</td><td>Operational</td><td>concentration</td></tr>\n\t<tr><td>Alnus</td><td>La-Chaux-de-Fonds</td><td>2020-01-01</td><td>1</td><td>0.0432130</td><td>2020-01-01 01:00:00</td><td>Operational</td><td>concentration</td></tr>\n\t<tr><td>Alnus</td><td>Lausanne         </td><td>2020-01-01</td><td>1</td><td>0.0156250</td><td>2020-01-01 01:00:00</td><td>Operational</td><td>concentration</td></tr>\n</tbody>\n</table>\n",
      "text/latex": "A tibble: 6 × 8\n\\begin{tabular}{llllllll}\n taxon & station & date & hour & value & datetime & type & measurement\\\\\n <chr> & <chr> & <date> & <int> & <dbl> & <dttm> & <chr> & <chr>\\\\\n\\hline\n\t Alnus & Basel             & 2020-01-01 & 1 & 0.0029297 & 2020-01-01 01:00:00 & Operational & concentration\\\\\n\t Alnus & Bern              & 2020-01-01 & 1 & 0.0141600 & 2020-01-01 01:00:00 & Operational & concentration\\\\\n\t Alnus & Buchs             & 2020-01-01 & 1 & 0.5019500 & 2020-01-01 01:00:00 & Operational & concentration\\\\\n\t Alnus & Genève            & 2020-01-01 & 1 & 0.2497600 & 2020-01-01 01:00:00 & Operational & concentration\\\\\n\t Alnus & La-Chaux-de-Fonds & 2020-01-01 & 1 & 0.0432130 & 2020-01-01 01:00:00 & Operational & concentration\\\\\n\t Alnus & Lausanne          & 2020-01-01 & 1 & 0.0156250 & 2020-01-01 01:00:00 & Operational & concentration\\\\\n\\end{tabular}\n",
      "text/markdown": "\nA tibble: 6 × 8\n\n| taxon &lt;chr&gt; | station &lt;chr&gt; | date &lt;date&gt; | hour &lt;int&gt; | value &lt;dbl&gt; | datetime &lt;dttm&gt; | type &lt;chr&gt; | measurement &lt;chr&gt; |\n|---|---|---|---|---|---|---|---|\n| Alnus | Basel             | 2020-01-01 | 1 | 0.0029297 | 2020-01-01 01:00:00 | Operational | concentration |\n| Alnus | Bern              | 2020-01-01 | 1 | 0.0141600 | 2020-01-01 01:00:00 | Operational | concentration |\n| Alnus | Buchs             | 2020-01-01 | 1 | 0.5019500 | 2020-01-01 01:00:00 | Operational | concentration |\n| Alnus | Genève            | 2020-01-01 | 1 | 0.2497600 | 2020-01-01 01:00:00 | Operational | concentration |\n| Alnus | La-Chaux-de-Fonds | 2020-01-01 | 1 | 0.0432130 | 2020-01-01 01:00:00 | Operational | concentration |\n| Alnus | Lausanne          | 2020-01-01 | 1 | 0.0156250 | 2020-01-01 01:00:00 | Operational | concentration |\n\n",
      "text/plain": "  taxon station           date       hour value     datetime           \n1 Alnus Basel             2020-01-01 1    0.0029297 2020-01-01 01:00:00\n2 Alnus Bern              2020-01-01 1    0.0141600 2020-01-01 01:00:00\n3 Alnus Buchs             2020-01-01 1    0.5019500 2020-01-01 01:00:00\n4 Alnus Genève            2020-01-01 1    0.2497600 2020-01-01 01:00:00\n5 Alnus La-Chaux-de-Fonds 2020-01-01 1    0.0432130 2020-01-01 01:00:00\n6 Alnus Lausanne          2020-01-01 1    0.0156250 2020-01-01 01:00:00\n  type        measurement  \n1 Operational concentration\n2 Operational concentration\n3 Operational concentration\n4 Operational concentration\n5 Operational concentration\n6 Operational concentration"
     },
     "metadata": {},
     "output_type": "display_data"
    }
   ],
   "source": [
    "head(data_osm)"
   ]
  },
  {
   "cell_type": "code",
   "execution_count": 75,
   "metadata": {},
   "outputs": [
    {
     "data": {
      "text/html": "<table class=\"dataframe\">\n<caption>A tibble: 6 × 20</caption>\n<thead>\n\t<tr><th scope=col>PARAMETER</th><th scope=col>YYYY</th><th scope=col>MM</th><th scope=col>DD</th><th scope=col>HH</th><th scope=col>mm</th><th scope=col>PLO</th><th scope=col>PBS</th><th scope=col>PBE</th><th scope=col>PBU</th><th scope=col>PLS</th><th scope=col>PDS</th><th scope=col>PLU</th><th scope=col>PLZ</th><th scope=col>PMU</th><th scope=col>PVI</th><th scope=col>PNE</th><th scope=col>PZH</th><th scope=col>PGE</th><th scope=col>PCF</th></tr>\n\t<tr><th scope=col>&lt;chr&gt;</th><th scope=col>&lt;dbl&gt;</th><th scope=col>&lt;dbl&gt;</th><th scope=col>&lt;dbl&gt;</th><th scope=col>&lt;dbl&gt;</th><th scope=col>&lt;dbl&gt;</th><th scope=col>&lt;dbl&gt;</th><th scope=col>&lt;dbl&gt;</th><th scope=col>&lt;dbl&gt;</th><th scope=col>&lt;dbl&gt;</th><th scope=col>&lt;dbl&gt;</th><th scope=col>&lt;dbl&gt;</th><th scope=col>&lt;dbl&gt;</th><th scope=col>&lt;dbl&gt;</th><th scope=col>&lt;dbl&gt;</th><th scope=col>&lt;dbl&gt;</th><th scope=col>&lt;dbl&gt;</th><th scope=col>&lt;dbl&gt;</th><th scope=col>&lt;dbl&gt;</th><th scope=col>&lt;dbl&gt;</th></tr>\n</thead>\n<tbody>\n\t<tr><td>BETU1</td><td>2019</td><td>1</td><td>1</td><td>0</td><td>0</td><td>-9999</td><td>-9999</td><td>-9999</td><td>0</td><td>-9999</td><td>-9999</td><td>0</td><td>-9999</td><td>-9999</td><td>-9999</td><td>-9999</td><td>-9999</td><td>0</td><td>-9999</td></tr>\n\t<tr><td>BETU1</td><td>2019</td><td>1</td><td>1</td><td>1</td><td>0</td><td>-9999</td><td>-9999</td><td>-9999</td><td>0</td><td>-9999</td><td>-9999</td><td>0</td><td>-9999</td><td>-9999</td><td>-9999</td><td>-9999</td><td>-9999</td><td>0</td><td>-9999</td></tr>\n\t<tr><td>BETU1</td><td>2019</td><td>1</td><td>1</td><td>2</td><td>0</td><td>-9999</td><td>-9999</td><td>-9999</td><td>0</td><td>-9999</td><td>-9999</td><td>0</td><td>-9999</td><td>-9999</td><td>-9999</td><td>-9999</td><td>-9999</td><td>0</td><td>-9999</td></tr>\n\t<tr><td>BETU1</td><td>2019</td><td>1</td><td>1</td><td>3</td><td>0</td><td>-9999</td><td>-9999</td><td>-9999</td><td>0</td><td>-9999</td><td>-9999</td><td>0</td><td>-9999</td><td>-9999</td><td>-9999</td><td>-9999</td><td>-9999</td><td>0</td><td>-9999</td></tr>\n\t<tr><td>BETU1</td><td>2019</td><td>1</td><td>1</td><td>4</td><td>0</td><td>-9999</td><td>-9999</td><td>-9999</td><td>0</td><td>-9999</td><td>-9999</td><td>0</td><td>-9999</td><td>-9999</td><td>-9999</td><td>-9999</td><td>-9999</td><td>0</td><td>-9999</td></tr>\n\t<tr><td>BETU1</td><td>2019</td><td>1</td><td>1</td><td>5</td><td>0</td><td>-9999</td><td>-9999</td><td>-9999</td><td>0</td><td>-9999</td><td>-9999</td><td>0</td><td>-9999</td><td>-9999</td><td>-9999</td><td>-9999</td><td>-9999</td><td>0</td><td>-9999</td></tr>\n</tbody>\n</table>\n",
      "text/latex": "A tibble: 6 × 20\n\\begin{tabular}{llllllllllllllllllll}\n PARAMETER & YYYY & MM & DD & HH & mm & PLO & PBS & PBE & PBU & PLS & PDS & PLU & PLZ & PMU & PVI & PNE & PZH & PGE & PCF\\\\\n <chr> & <dbl> & <dbl> & <dbl> & <dbl> & <dbl> & <dbl> & <dbl> & <dbl> & <dbl> & <dbl> & <dbl> & <dbl> & <dbl> & <dbl> & <dbl> & <dbl> & <dbl> & <dbl> & <dbl>\\\\\n\\hline\n\t BETU1 & 2019 & 1 & 1 & 0 & 0 & -9999 & -9999 & -9999 & 0 & -9999 & -9999 & 0 & -9999 & -9999 & -9999 & -9999 & -9999 & 0 & -9999\\\\\n\t BETU1 & 2019 & 1 & 1 & 1 & 0 & -9999 & -9999 & -9999 & 0 & -9999 & -9999 & 0 & -9999 & -9999 & -9999 & -9999 & -9999 & 0 & -9999\\\\\n\t BETU1 & 2019 & 1 & 1 & 2 & 0 & -9999 & -9999 & -9999 & 0 & -9999 & -9999 & 0 & -9999 & -9999 & -9999 & -9999 & -9999 & 0 & -9999\\\\\n\t BETU1 & 2019 & 1 & 1 & 3 & 0 & -9999 & -9999 & -9999 & 0 & -9999 & -9999 & 0 & -9999 & -9999 & -9999 & -9999 & -9999 & 0 & -9999\\\\\n\t BETU1 & 2019 & 1 & 1 & 4 & 0 & -9999 & -9999 & -9999 & 0 & -9999 & -9999 & 0 & -9999 & -9999 & -9999 & -9999 & -9999 & 0 & -9999\\\\\n\t BETU1 & 2019 & 1 & 1 & 5 & 0 & -9999 & -9999 & -9999 & 0 & -9999 & -9999 & 0 & -9999 & -9999 & -9999 & -9999 & -9999 & 0 & -9999\\\\\n\\end{tabular}\n",
      "text/markdown": "\nA tibble: 6 × 20\n\n| PARAMETER &lt;chr&gt; | YYYY &lt;dbl&gt; | MM &lt;dbl&gt; | DD &lt;dbl&gt; | HH &lt;dbl&gt; | mm &lt;dbl&gt; | PLO &lt;dbl&gt; | PBS &lt;dbl&gt; | PBE &lt;dbl&gt; | PBU &lt;dbl&gt; | PLS &lt;dbl&gt; | PDS &lt;dbl&gt; | PLU &lt;dbl&gt; | PLZ &lt;dbl&gt; | PMU &lt;dbl&gt; | PVI &lt;dbl&gt; | PNE &lt;dbl&gt; | PZH &lt;dbl&gt; | PGE &lt;dbl&gt; | PCF &lt;dbl&gt; |\n|---|---|---|---|---|---|---|---|---|---|---|---|---|---|---|---|---|---|---|---|\n| BETU1 | 2019 | 1 | 1 | 0 | 0 | -9999 | -9999 | -9999 | 0 | -9999 | -9999 | 0 | -9999 | -9999 | -9999 | -9999 | -9999 | 0 | -9999 |\n| BETU1 | 2019 | 1 | 1 | 1 | 0 | -9999 | -9999 | -9999 | 0 | -9999 | -9999 | 0 | -9999 | -9999 | -9999 | -9999 | -9999 | 0 | -9999 |\n| BETU1 | 2019 | 1 | 1 | 2 | 0 | -9999 | -9999 | -9999 | 0 | -9999 | -9999 | 0 | -9999 | -9999 | -9999 | -9999 | -9999 | 0 | -9999 |\n| BETU1 | 2019 | 1 | 1 | 3 | 0 | -9999 | -9999 | -9999 | 0 | -9999 | -9999 | 0 | -9999 | -9999 | -9999 | -9999 | -9999 | 0 | -9999 |\n| BETU1 | 2019 | 1 | 1 | 4 | 0 | -9999 | -9999 | -9999 | 0 | -9999 | -9999 | 0 | -9999 | -9999 | -9999 | -9999 | -9999 | 0 | -9999 |\n| BETU1 | 2019 | 1 | 1 | 5 | 0 | -9999 | -9999 | -9999 | 0 | -9999 | -9999 | 0 | -9999 | -9999 | -9999 | -9999 | -9999 | 0 | -9999 |\n\n",
      "text/plain": "  PARAMETER YYYY MM DD HH mm PLO   PBS   PBE   PBU PLS   PDS   PLU PLZ   PMU  \n1 BETU1     2019 1  1  0  0  -9999 -9999 -9999 0   -9999 -9999 0   -9999 -9999\n2 BETU1     2019 1  1  1  0  -9999 -9999 -9999 0   -9999 -9999 0   -9999 -9999\n3 BETU1     2019 1  1  2  0  -9999 -9999 -9999 0   -9999 -9999 0   -9999 -9999\n4 BETU1     2019 1  1  3  0  -9999 -9999 -9999 0   -9999 -9999 0   -9999 -9999\n5 BETU1     2019 1  1  4  0  -9999 -9999 -9999 0   -9999 -9999 0   -9999 -9999\n6 BETU1     2019 1  1  5  0  -9999 -9999 -9999 0   -9999 -9999 0   -9999 -9999\n  PVI   PNE   PZH   PGE PCF  \n1 -9999 -9999 -9999 0   -9999\n2 -9999 -9999 -9999 0   -9999\n3 -9999 -9999 -9999 0   -9999\n4 -9999 -9999 -9999 0   -9999\n5 -9999 -9999 -9999 0   -9999\n6 -9999 -9999 -9999 0   -9999"
     },
     "metadata": {},
     "output_type": "display_data"
    }
   ],
   "source": [
    "head(data_dwh)"
   ]
  },
  {
   "cell_type": "code",
   "execution_count": 76,
   "metadata": {},
   "outputs": [
    {
     "data": {
      "text/html": "<table class=\"dataframe\">\n<caption>A tibble: 4 × 4</caption>\n<thead>\n\t<tr><th scope=col>taxon</th><th scope=col>hirst_taxon</th><th scope=col>cosmo_taxon</th><th scope=col>fieldextra_taxon</th></tr>\n\t<tr><th scope=col>&lt;chr&gt;</th><th scope=col>&lt;chr&gt;</th><th scope=col>&lt;chr&gt;</th><th scope=col>&lt;chr&gt;</th></tr>\n</thead>\n<tbody>\n\t<tr><td>Alnus   </td><td>kaalnuh0</td><td>ALNU</td><td>ALNU1</td></tr>\n\t<tr><td>Poaceae </td><td>khpoach0</td><td>POAC</td><td>POAC1</td></tr>\n\t<tr><td>Betula  </td><td>kabetuh0</td><td>BETU</td><td>BETU1</td></tr>\n\t<tr><td>Ambrosia</td><td>khambrh0</td><td>AMBR</td><td>AMBR1</td></tr>\n</tbody>\n</table>\n",
      "text/latex": "A tibble: 4 × 4\n\\begin{tabular}{llll}\n taxon & hirst\\_taxon & cosmo\\_taxon & fieldextra\\_taxon\\\\\n <chr> & <chr> & <chr> & <chr>\\\\\n\\hline\n\t Alnus    & kaalnuh0 & ALNU & ALNU1\\\\\n\t Poaceae  & khpoach0 & POAC & POAC1\\\\\n\t Betula   & kabetuh0 & BETU & BETU1\\\\\n\t Ambrosia & khambrh0 & AMBR & AMBR1\\\\\n\\end{tabular}\n",
      "text/markdown": "\nA tibble: 4 × 4\n\n| taxon &lt;chr&gt; | hirst_taxon &lt;chr&gt; | cosmo_taxon &lt;chr&gt; | fieldextra_taxon &lt;chr&gt; |\n|---|---|---|---|\n| Alnus    | kaalnuh0 | ALNU | ALNU1 |\n| Poaceae  | khpoach0 | POAC | POAC1 |\n| Betula   | kabetuh0 | BETU | BETU1 |\n| Ambrosia | khambrh0 | AMBR | AMBR1 |\n\n",
      "text/plain": "  taxon    hirst_taxon cosmo_taxon fieldextra_taxon\n1 Alnus    kaalnuh0    ALNU        ALNU1           \n2 Poaceae  khpoach0    POAC        POAC1           \n3 Betula   kabetuh0    BETU        BETU1           \n4 Ambrosia khambrh0    AMBR        AMBR1           "
     },
     "metadata": {},
     "output_type": "display_data"
    }
   ],
   "source": [
    "species"
   ]
  },
  {
   "cell_type": "code",
   "execution_count": 91,
   "metadata": {},
   "outputs": [],
   "source": [
    "data_dwh <- data_dwh %>%\n",
    "  pivot_longer(PLO:PCF, names_to = \"station_short\", values_to = \"value\") %>%\n",
    "  mutate(\n",
    "    value = if_else(value == -9999, NA_real_, value),\n",
    "    type = \"Measurements\",\n",
    "    measurement = \"concentration\",\n",
    "    datetime = ymd_h(paste0(\n",
    "      YYYY, sprintf(\"%02d\", MM),\n",
    "      sprintf(\"%02d\", DD),\n",
    "      sprintf(\"%02d\", HH))),\n",
    "    date = date(datetime),\n",
    "    hour = hour(datetime)\n",
    "  ) %>%\n",
    "  inner_join(species, by = c(\"PARAMETER\" = \"fieldextra_taxon\")) %>%\n",
    "  inner_join(stations, by = c(\"station_short\" = \"hirst_station\")) %>%\n",
    "  select('taxon', 'station', 'date', 'hour', 'value', 'datetime', 'type', 'measurement')\n",
    "\n",
    "  "
   ]
  },
  {
   "cell_type": "code",
   "execution_count": 92,
   "metadata": {},
   "outputs": [
    {
     "data": {
      "text/html": "<table class=\"dataframe\">\n<caption>A tibble: 828576 × 8</caption>\n<thead>\n\t<tr><th scope=col>taxon</th><th scope=col>station</th><th scope=col>date</th><th scope=col>hour</th><th scope=col>value</th><th scope=col>datetime</th><th scope=col>type</th><th scope=col>measurement</th></tr>\n\t<tr><th scope=col>&lt;chr&gt;</th><th scope=col>&lt;chr&gt;</th><th scope=col>&lt;date&gt;</th><th scope=col>&lt;int&gt;</th><th scope=col>&lt;dbl&gt;</th><th scope=col>&lt;dttm&gt;</th><th scope=col>&lt;chr&gt;</th><th scope=col>&lt;chr&gt;</th></tr>\n</thead>\n<tbody>\n\t<tr><td>Betula</td><td>Locarno          </td><td>2019-01-01</td><td>0</td><td>NA</td><td>2019-01-01 00:00:00</td><td>Measurements</td><td>concentration</td></tr>\n\t<tr><td>Betula</td><td>Basel            </td><td>2019-01-01</td><td>0</td><td>NA</td><td>2019-01-01 00:00:00</td><td>Measurements</td><td>concentration</td></tr>\n\t<tr><td>Betula</td><td>Bern             </td><td>2019-01-01</td><td>0</td><td>NA</td><td>2019-01-01 00:00:00</td><td>Measurements</td><td>concentration</td></tr>\n\t<tr><td>Betula</td><td>Buchs            </td><td>2019-01-01</td><td>0</td><td> 0</td><td>2019-01-01 00:00:00</td><td>Measurements</td><td>concentration</td></tr>\n\t<tr><td>Betula</td><td>Lausanne         </td><td>2019-01-01</td><td>0</td><td>NA</td><td>2019-01-01 00:00:00</td><td>Measurements</td><td>concentration</td></tr>\n\t<tr><td>Betula</td><td>Wolfgang         </td><td>2019-01-01</td><td>0</td><td>NA</td><td>2019-01-01 00:00:00</td><td>Measurements</td><td>concentration</td></tr>\n\t<tr><td>Betula</td><td>Lugano           </td><td>2019-01-01</td><td>0</td><td> 0</td><td>2019-01-01 00:00:00</td><td>Measurements</td><td>concentration</td></tr>\n\t<tr><td>Betula</td><td>Luzern           </td><td>2019-01-01</td><td>0</td><td>NA</td><td>2019-01-01 00:00:00</td><td>Measurements</td><td>concentration</td></tr>\n\t<tr><td>Betula</td><td>Münsterlingen    </td><td>2019-01-01</td><td>0</td><td>NA</td><td>2019-01-01 00:00:00</td><td>Measurements</td><td>concentration</td></tr>\n\t<tr><td>Betula</td><td>Visp             </td><td>2019-01-01</td><td>0</td><td>NA</td><td>2019-01-01 00:00:00</td><td>Measurements</td><td>concentration</td></tr>\n\t<tr><td>Betula</td><td>Neuchâtel        </td><td>2019-01-01</td><td>0</td><td>NA</td><td>2019-01-01 00:00:00</td><td>Measurements</td><td>concentration</td></tr>\n\t<tr><td>Betula</td><td>Zürich           </td><td>2019-01-01</td><td>0</td><td>NA</td><td>2019-01-01 00:00:00</td><td>Measurements</td><td>concentration</td></tr>\n\t<tr><td>Betula</td><td>Genève           </td><td>2019-01-01</td><td>0</td><td> 0</td><td>2019-01-01 00:00:00</td><td>Measurements</td><td>concentration</td></tr>\n\t<tr><td>Betula</td><td>La-Chaux-de-Fonds</td><td>2019-01-01</td><td>0</td><td>NA</td><td>2019-01-01 00:00:00</td><td>Measurements</td><td>concentration</td></tr>\n\t<tr><td>Betula</td><td>Locarno          </td><td>2019-01-01</td><td>1</td><td>NA</td><td>2019-01-01 01:00:00</td><td>Measurements</td><td>concentration</td></tr>\n\t<tr><td>Betula</td><td>Basel            </td><td>2019-01-01</td><td>1</td><td>NA</td><td>2019-01-01 01:00:00</td><td>Measurements</td><td>concentration</td></tr>\n\t<tr><td>Betula</td><td>Bern             </td><td>2019-01-01</td><td>1</td><td>NA</td><td>2019-01-01 01:00:00</td><td>Measurements</td><td>concentration</td></tr>\n\t<tr><td>Betula</td><td>Buchs            </td><td>2019-01-01</td><td>1</td><td> 0</td><td>2019-01-01 01:00:00</td><td>Measurements</td><td>concentration</td></tr>\n\t<tr><td>Betula</td><td>Lausanne         </td><td>2019-01-01</td><td>1</td><td>NA</td><td>2019-01-01 01:00:00</td><td>Measurements</td><td>concentration</td></tr>\n\t<tr><td>Betula</td><td>Wolfgang         </td><td>2019-01-01</td><td>1</td><td>NA</td><td>2019-01-01 01:00:00</td><td>Measurements</td><td>concentration</td></tr>\n\t<tr><td>Betula</td><td>Lugano           </td><td>2019-01-01</td><td>1</td><td> 0</td><td>2019-01-01 01:00:00</td><td>Measurements</td><td>concentration</td></tr>\n\t<tr><td>Betula</td><td>Luzern           </td><td>2019-01-01</td><td>1</td><td>NA</td><td>2019-01-01 01:00:00</td><td>Measurements</td><td>concentration</td></tr>\n\t<tr><td>Betula</td><td>Münsterlingen    </td><td>2019-01-01</td><td>1</td><td>NA</td><td>2019-01-01 01:00:00</td><td>Measurements</td><td>concentration</td></tr>\n\t<tr><td>Betula</td><td>Visp             </td><td>2019-01-01</td><td>1</td><td>NA</td><td>2019-01-01 01:00:00</td><td>Measurements</td><td>concentration</td></tr>\n\t<tr><td>Betula</td><td>Neuchâtel        </td><td>2019-01-01</td><td>1</td><td>NA</td><td>2019-01-01 01:00:00</td><td>Measurements</td><td>concentration</td></tr>\n\t<tr><td>Betula</td><td>Zürich           </td><td>2019-01-01</td><td>1</td><td>NA</td><td>2019-01-01 01:00:00</td><td>Measurements</td><td>concentration</td></tr>\n\t<tr><td>Betula</td><td>Genève           </td><td>2019-01-01</td><td>1</td><td> 0</td><td>2019-01-01 01:00:00</td><td>Measurements</td><td>concentration</td></tr>\n\t<tr><td>Betula</td><td>La-Chaux-de-Fonds</td><td>2019-01-01</td><td>1</td><td>NA</td><td>2019-01-01 01:00:00</td><td>Measurements</td><td>concentration</td></tr>\n\t<tr><td>Betula</td><td>Locarno          </td><td>2019-01-01</td><td>2</td><td>NA</td><td>2019-01-01 02:00:00</td><td>Measurements</td><td>concentration</td></tr>\n\t<tr><td>Betula</td><td>Basel            </td><td>2019-01-01</td><td>2</td><td>NA</td><td>2019-01-01 02:00:00</td><td>Measurements</td><td>concentration</td></tr>\n\t<tr><td>⋮</td><td>⋮</td><td>⋮</td><td>⋮</td><td>⋮</td><td>⋮</td><td>⋮</td><td>⋮</td></tr>\n\t<tr><td>Alnus</td><td>Visp             </td><td>2020-03-31</td><td>22</td><td>0.19531</td><td>2020-03-31 22:00:00</td><td>With Real-Time Data and SDES-Update</td><td>concentration</td></tr>\n\t<tr><td>Alnus</td><td>Zürich           </td><td>2020-03-31</td><td>22</td><td>0.28613</td><td>2020-03-31 22:00:00</td><td>With Real-Time Data and SDES-Update</td><td>concentration</td></tr>\n\t<tr><td>Alnus</td><td>Basel            </td><td>2020-03-31</td><td>23</td><td>0.54541</td><td>2020-03-31 23:00:00</td><td>With Real-Time Data and SDES-Update</td><td>concentration</td></tr>\n\t<tr><td>Alnus</td><td>Bern             </td><td>2020-03-31</td><td>23</td><td>0.49854</td><td>2020-03-31 23:00:00</td><td>With Real-Time Data and SDES-Update</td><td>concentration</td></tr>\n\t<tr><td>Alnus</td><td>Buchs            </td><td>2020-03-31</td><td>23</td><td>0.73145</td><td>2020-03-31 23:00:00</td><td>With Real-Time Data and SDES-Update</td><td>concentration</td></tr>\n\t<tr><td>Alnus</td><td>Genève           </td><td>2020-03-31</td><td>23</td><td>1.07520</td><td>2020-03-31 23:00:00</td><td>With Real-Time Data and SDES-Update</td><td>concentration</td></tr>\n\t<tr><td>Alnus</td><td>La-Chaux-de-Fonds</td><td>2020-03-31</td><td>23</td><td>0.25635</td><td>2020-03-31 23:00:00</td><td>With Real-Time Data and SDES-Update</td><td>concentration</td></tr>\n\t<tr><td>Alnus</td><td>Lausanne         </td><td>2020-03-31</td><td>23</td><td>0.51123</td><td>2020-03-31 23:00:00</td><td>With Real-Time Data and SDES-Update</td><td>concentration</td></tr>\n\t<tr><td>Alnus</td><td>Locarno          </td><td>2020-03-31</td><td>23</td><td>2.74560</td><td>2020-03-31 23:00:00</td><td>With Real-Time Data and SDES-Update</td><td>concentration</td></tr>\n\t<tr><td>Alnus</td><td>Lugano           </td><td>2020-03-31</td><td>23</td><td>4.17040</td><td>2020-03-31 23:00:00</td><td>With Real-Time Data and SDES-Update</td><td>concentration</td></tr>\n\t<tr><td>Alnus</td><td>Luzern           </td><td>2020-03-31</td><td>23</td><td>0.65918</td><td>2020-03-31 23:00:00</td><td>With Real-Time Data and SDES-Update</td><td>concentration</td></tr>\n\t<tr><td>Alnus</td><td>Münsterlingen    </td><td>2020-03-31</td><td>23</td><td>0.28223</td><td>2020-03-31 23:00:00</td><td>With Real-Time Data and SDES-Update</td><td>concentration</td></tr>\n\t<tr><td>Alnus</td><td>Neuchâtel        </td><td>2020-03-31</td><td>23</td><td>0.36328</td><td>2020-03-31 23:00:00</td><td>With Real-Time Data and SDES-Update</td><td>concentration</td></tr>\n\t<tr><td>Alnus</td><td>Wolfgang         </td><td>2020-03-31</td><td>23</td><td>0.36230</td><td>2020-03-31 23:00:00</td><td>With Real-Time Data and SDES-Update</td><td>concentration</td></tr>\n\t<tr><td>Alnus</td><td>Visp             </td><td>2020-03-31</td><td>23</td><td>0.19873</td><td>2020-03-31 23:00:00</td><td>With Real-Time Data and SDES-Update</td><td>concentration</td></tr>\n\t<tr><td>Alnus</td><td>Zürich           </td><td>2020-03-31</td><td>23</td><td>0.30322</td><td>2020-03-31 23:00:00</td><td>With Real-Time Data and SDES-Update</td><td>concentration</td></tr>\n\t<tr><td>Alnus</td><td>Basel            </td><td>2020-04-01</td><td> 0</td><td>0.91162</td><td>2020-04-01 00:00:00</td><td>With Real-Time Data and SDES-Update</td><td>concentration</td></tr>\n\t<tr><td>Alnus</td><td>Bern             </td><td>2020-04-01</td><td> 0</td><td>0.44238</td><td>2020-04-01 00:00:00</td><td>With Real-Time Data and SDES-Update</td><td>concentration</td></tr>\n\t<tr><td>Alnus</td><td>Buchs            </td><td>2020-04-01</td><td> 0</td><td>0.94531</td><td>2020-04-01 00:00:00</td><td>With Real-Time Data and SDES-Update</td><td>concentration</td></tr>\n\t<tr><td>Alnus</td><td>Genève           </td><td>2020-04-01</td><td> 0</td><td>0.84180</td><td>2020-04-01 00:00:00</td><td>With Real-Time Data and SDES-Update</td><td>concentration</td></tr>\n\t<tr><td>Alnus</td><td>La-Chaux-de-Fonds</td><td>2020-04-01</td><td> 0</td><td>0.21045</td><td>2020-04-01 00:00:00</td><td>With Real-Time Data and SDES-Update</td><td>concentration</td></tr>\n\t<tr><td>Alnus</td><td>Lausanne         </td><td>2020-04-01</td><td> 0</td><td>0.47949</td><td>2020-04-01 00:00:00</td><td>With Real-Time Data and SDES-Update</td><td>concentration</td></tr>\n\t<tr><td>Alnus</td><td>Locarno          </td><td>2020-04-01</td><td> 0</td><td>2.23190</td><td>2020-04-01 00:00:00</td><td>With Real-Time Data and SDES-Update</td><td>concentration</td></tr>\n\t<tr><td>Alnus</td><td>Lugano           </td><td>2020-04-01</td><td> 0</td><td>3.87160</td><td>2020-04-01 00:00:00</td><td>With Real-Time Data and SDES-Update</td><td>concentration</td></tr>\n\t<tr><td>Alnus</td><td>Luzern           </td><td>2020-04-01</td><td> 0</td><td>0.69678</td><td>2020-04-01 00:00:00</td><td>With Real-Time Data and SDES-Update</td><td>concentration</td></tr>\n\t<tr><td>Alnus</td><td>Münsterlingen    </td><td>2020-04-01</td><td> 0</td><td>0.30127</td><td>2020-04-01 00:00:00</td><td>With Real-Time Data and SDES-Update</td><td>concentration</td></tr>\n\t<tr><td>Alnus</td><td>Neuchâtel        </td><td>2020-04-01</td><td> 0</td><td>0.35986</td><td>2020-04-01 00:00:00</td><td>With Real-Time Data and SDES-Update</td><td>concentration</td></tr>\n\t<tr><td>Alnus</td><td>Wolfgang         </td><td>2020-04-01</td><td> 0</td><td>0.29688</td><td>2020-04-01 00:00:00</td><td>With Real-Time Data and SDES-Update</td><td>concentration</td></tr>\n\t<tr><td>Alnus</td><td>Visp             </td><td>2020-04-01</td><td> 0</td><td>0.20264</td><td>2020-04-01 00:00:00</td><td>With Real-Time Data and SDES-Update</td><td>concentration</td></tr>\n\t<tr><td>Alnus</td><td>Zürich           </td><td>2020-04-01</td><td> 0</td><td>0.29102</td><td>2020-04-01 00:00:00</td><td>With Real-Time Data and SDES-Update</td><td>concentration</td></tr>\n</tbody>\n</table>\n",
      "text/latex": "A tibble: 828576 × 8\n\\begin{tabular}{llllllll}\n taxon & station & date & hour & value & datetime & type & measurement\\\\\n <chr> & <chr> & <date> & <int> & <dbl> & <dttm> & <chr> & <chr>\\\\\n\\hline\n\t Betula & Locarno           & 2019-01-01 & 0 & NA & 2019-01-01 00:00:00 & Measurements & concentration\\\\\n\t Betula & Basel             & 2019-01-01 & 0 & NA & 2019-01-01 00:00:00 & Measurements & concentration\\\\\n\t Betula & Bern              & 2019-01-01 & 0 & NA & 2019-01-01 00:00:00 & Measurements & concentration\\\\\n\t Betula & Buchs             & 2019-01-01 & 0 &  0 & 2019-01-01 00:00:00 & Measurements & concentration\\\\\n\t Betula & Lausanne          & 2019-01-01 & 0 & NA & 2019-01-01 00:00:00 & Measurements & concentration\\\\\n\t Betula & Wolfgang          & 2019-01-01 & 0 & NA & 2019-01-01 00:00:00 & Measurements & concentration\\\\\n\t Betula & Lugano            & 2019-01-01 & 0 &  0 & 2019-01-01 00:00:00 & Measurements & concentration\\\\\n\t Betula & Luzern            & 2019-01-01 & 0 & NA & 2019-01-01 00:00:00 & Measurements & concentration\\\\\n\t Betula & Münsterlingen     & 2019-01-01 & 0 & NA & 2019-01-01 00:00:00 & Measurements & concentration\\\\\n\t Betula & Visp              & 2019-01-01 & 0 & NA & 2019-01-01 00:00:00 & Measurements & concentration\\\\\n\t Betula & Neuchâtel         & 2019-01-01 & 0 & NA & 2019-01-01 00:00:00 & Measurements & concentration\\\\\n\t Betula & Zürich            & 2019-01-01 & 0 & NA & 2019-01-01 00:00:00 & Measurements & concentration\\\\\n\t Betula & Genève            & 2019-01-01 & 0 &  0 & 2019-01-01 00:00:00 & Measurements & concentration\\\\\n\t Betula & La-Chaux-de-Fonds & 2019-01-01 & 0 & NA & 2019-01-01 00:00:00 & Measurements & concentration\\\\\n\t Betula & Locarno           & 2019-01-01 & 1 & NA & 2019-01-01 01:00:00 & Measurements & concentration\\\\\n\t Betula & Basel             & 2019-01-01 & 1 & NA & 2019-01-01 01:00:00 & Measurements & concentration\\\\\n\t Betula & Bern              & 2019-01-01 & 1 & NA & 2019-01-01 01:00:00 & Measurements & concentration\\\\\n\t Betula & Buchs             & 2019-01-01 & 1 &  0 & 2019-01-01 01:00:00 & Measurements & concentration\\\\\n\t Betula & Lausanne          & 2019-01-01 & 1 & NA & 2019-01-01 01:00:00 & Measurements & concentration\\\\\n\t Betula & Wolfgang          & 2019-01-01 & 1 & NA & 2019-01-01 01:00:00 & Measurements & concentration\\\\\n\t Betula & Lugano            & 2019-01-01 & 1 &  0 & 2019-01-01 01:00:00 & Measurements & concentration\\\\\n\t Betula & Luzern            & 2019-01-01 & 1 & NA & 2019-01-01 01:00:00 & Measurements & concentration\\\\\n\t Betula & Münsterlingen     & 2019-01-01 & 1 & NA & 2019-01-01 01:00:00 & Measurements & concentration\\\\\n\t Betula & Visp              & 2019-01-01 & 1 & NA & 2019-01-01 01:00:00 & Measurements & concentration\\\\\n\t Betula & Neuchâtel         & 2019-01-01 & 1 & NA & 2019-01-01 01:00:00 & Measurements & concentration\\\\\n\t Betula & Zürich            & 2019-01-01 & 1 & NA & 2019-01-01 01:00:00 & Measurements & concentration\\\\\n\t Betula & Genève            & 2019-01-01 & 1 &  0 & 2019-01-01 01:00:00 & Measurements & concentration\\\\\n\t Betula & La-Chaux-de-Fonds & 2019-01-01 & 1 & NA & 2019-01-01 01:00:00 & Measurements & concentration\\\\\n\t Betula & Locarno           & 2019-01-01 & 2 & NA & 2019-01-01 02:00:00 & Measurements & concentration\\\\\n\t Betula & Basel             & 2019-01-01 & 2 & NA & 2019-01-01 02:00:00 & Measurements & concentration\\\\\n\t ⋮ & ⋮ & ⋮ & ⋮ & ⋮ & ⋮ & ⋮ & ⋮\\\\\n\t Alnus & Visp              & 2020-03-31 & 22 & 0.19531 & 2020-03-31 22:00:00 & With Real-Time Data and SDES-Update & concentration\\\\\n\t Alnus & Zürich            & 2020-03-31 & 22 & 0.28613 & 2020-03-31 22:00:00 & With Real-Time Data and SDES-Update & concentration\\\\\n\t Alnus & Basel             & 2020-03-31 & 23 & 0.54541 & 2020-03-31 23:00:00 & With Real-Time Data and SDES-Update & concentration\\\\\n\t Alnus & Bern              & 2020-03-31 & 23 & 0.49854 & 2020-03-31 23:00:00 & With Real-Time Data and SDES-Update & concentration\\\\\n\t Alnus & Buchs             & 2020-03-31 & 23 & 0.73145 & 2020-03-31 23:00:00 & With Real-Time Data and SDES-Update & concentration\\\\\n\t Alnus & Genève            & 2020-03-31 & 23 & 1.07520 & 2020-03-31 23:00:00 & With Real-Time Data and SDES-Update & concentration\\\\\n\t Alnus & La-Chaux-de-Fonds & 2020-03-31 & 23 & 0.25635 & 2020-03-31 23:00:00 & With Real-Time Data and SDES-Update & concentration\\\\\n\t Alnus & Lausanne          & 2020-03-31 & 23 & 0.51123 & 2020-03-31 23:00:00 & With Real-Time Data and SDES-Update & concentration\\\\\n\t Alnus & Locarno           & 2020-03-31 & 23 & 2.74560 & 2020-03-31 23:00:00 & With Real-Time Data and SDES-Update & concentration\\\\\n\t Alnus & Lugano            & 2020-03-31 & 23 & 4.17040 & 2020-03-31 23:00:00 & With Real-Time Data and SDES-Update & concentration\\\\\n\t Alnus & Luzern            & 2020-03-31 & 23 & 0.65918 & 2020-03-31 23:00:00 & With Real-Time Data and SDES-Update & concentration\\\\\n\t Alnus & Münsterlingen     & 2020-03-31 & 23 & 0.28223 & 2020-03-31 23:00:00 & With Real-Time Data and SDES-Update & concentration\\\\\n\t Alnus & Neuchâtel         & 2020-03-31 & 23 & 0.36328 & 2020-03-31 23:00:00 & With Real-Time Data and SDES-Update & concentration\\\\\n\t Alnus & Wolfgang          & 2020-03-31 & 23 & 0.36230 & 2020-03-31 23:00:00 & With Real-Time Data and SDES-Update & concentration\\\\\n\t Alnus & Visp              & 2020-03-31 & 23 & 0.19873 & 2020-03-31 23:00:00 & With Real-Time Data and SDES-Update & concentration\\\\\n\t Alnus & Zürich            & 2020-03-31 & 23 & 0.30322 & 2020-03-31 23:00:00 & With Real-Time Data and SDES-Update & concentration\\\\\n\t Alnus & Basel             & 2020-04-01 &  0 & 0.91162 & 2020-04-01 00:00:00 & With Real-Time Data and SDES-Update & concentration\\\\\n\t Alnus & Bern              & 2020-04-01 &  0 & 0.44238 & 2020-04-01 00:00:00 & With Real-Time Data and SDES-Update & concentration\\\\\n\t Alnus & Buchs             & 2020-04-01 &  0 & 0.94531 & 2020-04-01 00:00:00 & With Real-Time Data and SDES-Update & concentration\\\\\n\t Alnus & Genève            & 2020-04-01 &  0 & 0.84180 & 2020-04-01 00:00:00 & With Real-Time Data and SDES-Update & concentration\\\\\n\t Alnus & La-Chaux-de-Fonds & 2020-04-01 &  0 & 0.21045 & 2020-04-01 00:00:00 & With Real-Time Data and SDES-Update & concentration\\\\\n\t Alnus & Lausanne          & 2020-04-01 &  0 & 0.47949 & 2020-04-01 00:00:00 & With Real-Time Data and SDES-Update & concentration\\\\\n\t Alnus & Locarno           & 2020-04-01 &  0 & 2.23190 & 2020-04-01 00:00:00 & With Real-Time Data and SDES-Update & concentration\\\\\n\t Alnus & Lugano            & 2020-04-01 &  0 & 3.87160 & 2020-04-01 00:00:00 & With Real-Time Data and SDES-Update & concentration\\\\\n\t Alnus & Luzern            & 2020-04-01 &  0 & 0.69678 & 2020-04-01 00:00:00 & With Real-Time Data and SDES-Update & concentration\\\\\n\t Alnus & Münsterlingen     & 2020-04-01 &  0 & 0.30127 & 2020-04-01 00:00:00 & With Real-Time Data and SDES-Update & concentration\\\\\n\t Alnus & Neuchâtel         & 2020-04-01 &  0 & 0.35986 & 2020-04-01 00:00:00 & With Real-Time Data and SDES-Update & concentration\\\\\n\t Alnus & Wolfgang          & 2020-04-01 &  0 & 0.29688 & 2020-04-01 00:00:00 & With Real-Time Data and SDES-Update & concentration\\\\\n\t Alnus & Visp              & 2020-04-01 &  0 & 0.20264 & 2020-04-01 00:00:00 & With Real-Time Data and SDES-Update & concentration\\\\\n\t Alnus & Zürich            & 2020-04-01 &  0 & 0.29102 & 2020-04-01 00:00:00 & With Real-Time Data and SDES-Update & concentration\\\\\n\\end{tabular}\n",
      "text/markdown": "\nA tibble: 828576 × 8\n\n| taxon &lt;chr&gt; | station &lt;chr&gt; | date &lt;date&gt; | hour &lt;int&gt; | value &lt;dbl&gt; | datetime &lt;dttm&gt; | type &lt;chr&gt; | measurement &lt;chr&gt; |\n|---|---|---|---|---|---|---|---|\n| Betula | Locarno           | 2019-01-01 | 0 | NA | 2019-01-01 00:00:00 | Measurements | concentration |\n| Betula | Basel             | 2019-01-01 | 0 | NA | 2019-01-01 00:00:00 | Measurements | concentration |\n| Betula | Bern              | 2019-01-01 | 0 | NA | 2019-01-01 00:00:00 | Measurements | concentration |\n| Betula | Buchs             | 2019-01-01 | 0 |  0 | 2019-01-01 00:00:00 | Measurements | concentration |\n| Betula | Lausanne          | 2019-01-01 | 0 | NA | 2019-01-01 00:00:00 | Measurements | concentration |\n| Betula | Wolfgang          | 2019-01-01 | 0 | NA | 2019-01-01 00:00:00 | Measurements | concentration |\n| Betula | Lugano            | 2019-01-01 | 0 |  0 | 2019-01-01 00:00:00 | Measurements | concentration |\n| Betula | Luzern            | 2019-01-01 | 0 | NA | 2019-01-01 00:00:00 | Measurements | concentration |\n| Betula | Münsterlingen     | 2019-01-01 | 0 | NA | 2019-01-01 00:00:00 | Measurements | concentration |\n| Betula | Visp              | 2019-01-01 | 0 | NA | 2019-01-01 00:00:00 | Measurements | concentration |\n| Betula | Neuchâtel         | 2019-01-01 | 0 | NA | 2019-01-01 00:00:00 | Measurements | concentration |\n| Betula | Zürich            | 2019-01-01 | 0 | NA | 2019-01-01 00:00:00 | Measurements | concentration |\n| Betula | Genève            | 2019-01-01 | 0 |  0 | 2019-01-01 00:00:00 | Measurements | concentration |\n| Betula | La-Chaux-de-Fonds | 2019-01-01 | 0 | NA | 2019-01-01 00:00:00 | Measurements | concentration |\n| Betula | Locarno           | 2019-01-01 | 1 | NA | 2019-01-01 01:00:00 | Measurements | concentration |\n| Betula | Basel             | 2019-01-01 | 1 | NA | 2019-01-01 01:00:00 | Measurements | concentration |\n| Betula | Bern              | 2019-01-01 | 1 | NA | 2019-01-01 01:00:00 | Measurements | concentration |\n| Betula | Buchs             | 2019-01-01 | 1 |  0 | 2019-01-01 01:00:00 | Measurements | concentration |\n| Betula | Lausanne          | 2019-01-01 | 1 | NA | 2019-01-01 01:00:00 | Measurements | concentration |\n| Betula | Wolfgang          | 2019-01-01 | 1 | NA | 2019-01-01 01:00:00 | Measurements | concentration |\n| Betula | Lugano            | 2019-01-01 | 1 |  0 | 2019-01-01 01:00:00 | Measurements | concentration |\n| Betula | Luzern            | 2019-01-01 | 1 | NA | 2019-01-01 01:00:00 | Measurements | concentration |\n| Betula | Münsterlingen     | 2019-01-01 | 1 | NA | 2019-01-01 01:00:00 | Measurements | concentration |\n| Betula | Visp              | 2019-01-01 | 1 | NA | 2019-01-01 01:00:00 | Measurements | concentration |\n| Betula | Neuchâtel         | 2019-01-01 | 1 | NA | 2019-01-01 01:00:00 | Measurements | concentration |\n| Betula | Zürich            | 2019-01-01 | 1 | NA | 2019-01-01 01:00:00 | Measurements | concentration |\n| Betula | Genève            | 2019-01-01 | 1 |  0 | 2019-01-01 01:00:00 | Measurements | concentration |\n| Betula | La-Chaux-de-Fonds | 2019-01-01 | 1 | NA | 2019-01-01 01:00:00 | Measurements | concentration |\n| Betula | Locarno           | 2019-01-01 | 2 | NA | 2019-01-01 02:00:00 | Measurements | concentration |\n| Betula | Basel             | 2019-01-01 | 2 | NA | 2019-01-01 02:00:00 | Measurements | concentration |\n| ⋮ | ⋮ | ⋮ | ⋮ | ⋮ | ⋮ | ⋮ | ⋮ |\n| Alnus | Visp              | 2020-03-31 | 22 | 0.19531 | 2020-03-31 22:00:00 | With Real-Time Data and SDES-Update | concentration |\n| Alnus | Zürich            | 2020-03-31 | 22 | 0.28613 | 2020-03-31 22:00:00 | With Real-Time Data and SDES-Update | concentration |\n| Alnus | Basel             | 2020-03-31 | 23 | 0.54541 | 2020-03-31 23:00:00 | With Real-Time Data and SDES-Update | concentration |\n| Alnus | Bern              | 2020-03-31 | 23 | 0.49854 | 2020-03-31 23:00:00 | With Real-Time Data and SDES-Update | concentration |\n| Alnus | Buchs             | 2020-03-31 | 23 | 0.73145 | 2020-03-31 23:00:00 | With Real-Time Data and SDES-Update | concentration |\n| Alnus | Genève            | 2020-03-31 | 23 | 1.07520 | 2020-03-31 23:00:00 | With Real-Time Data and SDES-Update | concentration |\n| Alnus | La-Chaux-de-Fonds | 2020-03-31 | 23 | 0.25635 | 2020-03-31 23:00:00 | With Real-Time Data and SDES-Update | concentration |\n| Alnus | Lausanne          | 2020-03-31 | 23 | 0.51123 | 2020-03-31 23:00:00 | With Real-Time Data and SDES-Update | concentration |\n| Alnus | Locarno           | 2020-03-31 | 23 | 2.74560 | 2020-03-31 23:00:00 | With Real-Time Data and SDES-Update | concentration |\n| Alnus | Lugano            | 2020-03-31 | 23 | 4.17040 | 2020-03-31 23:00:00 | With Real-Time Data and SDES-Update | concentration |\n| Alnus | Luzern            | 2020-03-31 | 23 | 0.65918 | 2020-03-31 23:00:00 | With Real-Time Data and SDES-Update | concentration |\n| Alnus | Münsterlingen     | 2020-03-31 | 23 | 0.28223 | 2020-03-31 23:00:00 | With Real-Time Data and SDES-Update | concentration |\n| Alnus | Neuchâtel         | 2020-03-31 | 23 | 0.36328 | 2020-03-31 23:00:00 | With Real-Time Data and SDES-Update | concentration |\n| Alnus | Wolfgang          | 2020-03-31 | 23 | 0.36230 | 2020-03-31 23:00:00 | With Real-Time Data and SDES-Update | concentration |\n| Alnus | Visp              | 2020-03-31 | 23 | 0.19873 | 2020-03-31 23:00:00 | With Real-Time Data and SDES-Update | concentration |\n| Alnus | Zürich            | 2020-03-31 | 23 | 0.30322 | 2020-03-31 23:00:00 | With Real-Time Data and SDES-Update | concentration |\n| Alnus | Basel             | 2020-04-01 |  0 | 0.91162 | 2020-04-01 00:00:00 | With Real-Time Data and SDES-Update | concentration |\n| Alnus | Bern              | 2020-04-01 |  0 | 0.44238 | 2020-04-01 00:00:00 | With Real-Time Data and SDES-Update | concentration |\n| Alnus | Buchs             | 2020-04-01 |  0 | 0.94531 | 2020-04-01 00:00:00 | With Real-Time Data and SDES-Update | concentration |\n| Alnus | Genève            | 2020-04-01 |  0 | 0.84180 | 2020-04-01 00:00:00 | With Real-Time Data and SDES-Update | concentration |\n| Alnus | La-Chaux-de-Fonds | 2020-04-01 |  0 | 0.21045 | 2020-04-01 00:00:00 | With Real-Time Data and SDES-Update | concentration |\n| Alnus | Lausanne          | 2020-04-01 |  0 | 0.47949 | 2020-04-01 00:00:00 | With Real-Time Data and SDES-Update | concentration |\n| Alnus | Locarno           | 2020-04-01 |  0 | 2.23190 | 2020-04-01 00:00:00 | With Real-Time Data and SDES-Update | concentration |\n| Alnus | Lugano            | 2020-04-01 |  0 | 3.87160 | 2020-04-01 00:00:00 | With Real-Time Data and SDES-Update | concentration |\n| Alnus | Luzern            | 2020-04-01 |  0 | 0.69678 | 2020-04-01 00:00:00 | With Real-Time Data and SDES-Update | concentration |\n| Alnus | Münsterlingen     | 2020-04-01 |  0 | 0.30127 | 2020-04-01 00:00:00 | With Real-Time Data and SDES-Update | concentration |\n| Alnus | Neuchâtel         | 2020-04-01 |  0 | 0.35986 | 2020-04-01 00:00:00 | With Real-Time Data and SDES-Update | concentration |\n| Alnus | Wolfgang          | 2020-04-01 |  0 | 0.29688 | 2020-04-01 00:00:00 | With Real-Time Data and SDES-Update | concentration |\n| Alnus | Visp              | 2020-04-01 |  0 | 0.20264 | 2020-04-01 00:00:00 | With Real-Time Data and SDES-Update | concentration |\n| Alnus | Zürich            | 2020-04-01 |  0 | 0.29102 | 2020-04-01 00:00:00 | With Real-Time Data and SDES-Update | concentration |\n\n",
      "text/plain": "       taxon  station           date       hour value   datetime           \n1      Betula Locarno           2019-01-01 0    NA      2019-01-01 00:00:00\n2      Betula Basel             2019-01-01 0    NA      2019-01-01 00:00:00\n3      Betula Bern              2019-01-01 0    NA      2019-01-01 00:00:00\n4      Betula Buchs             2019-01-01 0     0      2019-01-01 00:00:00\n5      Betula Lausanne          2019-01-01 0    NA      2019-01-01 00:00:00\n6      Betula Wolfgang          2019-01-01 0    NA      2019-01-01 00:00:00\n7      Betula Lugano            2019-01-01 0     0      2019-01-01 00:00:00\n8      Betula Luzern            2019-01-01 0    NA      2019-01-01 00:00:00\n9      Betula Münsterlingen     2019-01-01 0    NA      2019-01-01 00:00:00\n10     Betula Visp              2019-01-01 0    NA      2019-01-01 00:00:00\n11     Betula Neuchâtel         2019-01-01 0    NA      2019-01-01 00:00:00\n12     Betula Zürich            2019-01-01 0    NA      2019-01-01 00:00:00\n13     Betula Genève            2019-01-01 0     0      2019-01-01 00:00:00\n14     Betula La-Chaux-de-Fonds 2019-01-01 0    NA      2019-01-01 00:00:00\n15     Betula Locarno           2019-01-01 1    NA      2019-01-01 01:00:00\n16     Betula Basel             2019-01-01 1    NA      2019-01-01 01:00:00\n17     Betula Bern              2019-01-01 1    NA      2019-01-01 01:00:00\n18     Betula Buchs             2019-01-01 1     0      2019-01-01 01:00:00\n19     Betula Lausanne          2019-01-01 1    NA      2019-01-01 01:00:00\n20     Betula Wolfgang          2019-01-01 1    NA      2019-01-01 01:00:00\n21     Betula Lugano            2019-01-01 1     0      2019-01-01 01:00:00\n22     Betula Luzern            2019-01-01 1    NA      2019-01-01 01:00:00\n23     Betula Münsterlingen     2019-01-01 1    NA      2019-01-01 01:00:00\n24     Betula Visp              2019-01-01 1    NA      2019-01-01 01:00:00\n25     Betula Neuchâtel         2019-01-01 1    NA      2019-01-01 01:00:00\n26     Betula Zürich            2019-01-01 1    NA      2019-01-01 01:00:00\n27     Betula Genève            2019-01-01 1     0      2019-01-01 01:00:00\n28     Betula La-Chaux-de-Fonds 2019-01-01 1    NA      2019-01-01 01:00:00\n29     Betula Locarno           2019-01-01 2    NA      2019-01-01 02:00:00\n30     Betula Basel             2019-01-01 2    NA      2019-01-01 02:00:00\n⋮      ⋮      ⋮                 ⋮          ⋮    ⋮       ⋮                  \n828547 Alnus  Visp              2020-03-31 22   0.19531 2020-03-31 22:00:00\n828548 Alnus  Zürich            2020-03-31 22   0.28613 2020-03-31 22:00:00\n828549 Alnus  Basel             2020-03-31 23   0.54541 2020-03-31 23:00:00\n828550 Alnus  Bern              2020-03-31 23   0.49854 2020-03-31 23:00:00\n828551 Alnus  Buchs             2020-03-31 23   0.73145 2020-03-31 23:00:00\n828552 Alnus  Genève            2020-03-31 23   1.07520 2020-03-31 23:00:00\n828553 Alnus  La-Chaux-de-Fonds 2020-03-31 23   0.25635 2020-03-31 23:00:00\n828554 Alnus  Lausanne          2020-03-31 23   0.51123 2020-03-31 23:00:00\n828555 Alnus  Locarno           2020-03-31 23   2.74560 2020-03-31 23:00:00\n828556 Alnus  Lugano            2020-03-31 23   4.17040 2020-03-31 23:00:00\n828557 Alnus  Luzern            2020-03-31 23   0.65918 2020-03-31 23:00:00\n828558 Alnus  Münsterlingen     2020-03-31 23   0.28223 2020-03-31 23:00:00\n828559 Alnus  Neuchâtel         2020-03-31 23   0.36328 2020-03-31 23:00:00\n828560 Alnus  Wolfgang          2020-03-31 23   0.36230 2020-03-31 23:00:00\n828561 Alnus  Visp              2020-03-31 23   0.19873 2020-03-31 23:00:00\n828562 Alnus  Zürich            2020-03-31 23   0.30322 2020-03-31 23:00:00\n828563 Alnus  Basel             2020-04-01  0   0.91162 2020-04-01 00:00:00\n828564 Alnus  Bern              2020-04-01  0   0.44238 2020-04-01 00:00:00\n828565 Alnus  Buchs             2020-04-01  0   0.94531 2020-04-01 00:00:00\n828566 Alnus  Genève            2020-04-01  0   0.84180 2020-04-01 00:00:00\n828567 Alnus  La-Chaux-de-Fonds 2020-04-01  0   0.21045 2020-04-01 00:00:00\n828568 Alnus  Lausanne          2020-04-01  0   0.47949 2020-04-01 00:00:00\n828569 Alnus  Locarno           2020-04-01  0   2.23190 2020-04-01 00:00:00\n828570 Alnus  Lugano            2020-04-01  0   3.87160 2020-04-01 00:00:00\n828571 Alnus  Luzern            2020-04-01  0   0.69678 2020-04-01 00:00:00\n828572 Alnus  Münsterlingen     2020-04-01  0   0.30127 2020-04-01 00:00:00\n828573 Alnus  Neuchâtel         2020-04-01  0   0.35986 2020-04-01 00:00:00\n828574 Alnus  Wolfgang          2020-04-01  0   0.29688 2020-04-01 00:00:00\n828575 Alnus  Visp              2020-04-01  0   0.20264 2020-04-01 00:00:00\n828576 Alnus  Zürich            2020-04-01  0   0.29102 2020-04-01 00:00:00\n       type                                measurement  \n1      Measurements                        concentration\n2      Measurements                        concentration\n3      Measurements                        concentration\n4      Measurements                        concentration\n5      Measurements                        concentration\n6      Measurements                        concentration\n7      Measurements                        concentration\n8      Measurements                        concentration\n9      Measurements                        concentration\n10     Measurements                        concentration\n11     Measurements                        concentration\n12     Measurements                        concentration\n13     Measurements                        concentration\n14     Measurements                        concentration\n15     Measurements                        concentration\n16     Measurements                        concentration\n17     Measurements                        concentration\n18     Measurements                        concentration\n19     Measurements                        concentration\n20     Measurements                        concentration\n21     Measurements                        concentration\n22     Measurements                        concentration\n23     Measurements                        concentration\n24     Measurements                        concentration\n25     Measurements                        concentration\n26     Measurements                        concentration\n27     Measurements                        concentration\n28     Measurements                        concentration\n29     Measurements                        concentration\n30     Measurements                        concentration\n⋮      ⋮                                   ⋮            \n828547 With Real-Time Data and SDES-Update concentration\n828548 With Real-Time Data and SDES-Update concentration\n828549 With Real-Time Data and SDES-Update concentration\n828550 With Real-Time Data and SDES-Update concentration\n828551 With Real-Time Data and SDES-Update concentration\n828552 With Real-Time Data and SDES-Update concentration\n828553 With Real-Time Data and SDES-Update concentration\n828554 With Real-Time Data and SDES-Update concentration\n828555 With Real-Time Data and SDES-Update concentration\n828556 With Real-Time Data and SDES-Update concentration\n828557 With Real-Time Data and SDES-Update concentration\n828558 With Real-Time Data and SDES-Update concentration\n828559 With Real-Time Data and SDES-Update concentration\n828560 With Real-Time Data and SDES-Update concentration\n828561 With Real-Time Data and SDES-Update concentration\n828562 With Real-Time Data and SDES-Update concentration\n828563 With Real-Time Data and SDES-Update concentration\n828564 With Real-Time Data and SDES-Update concentration\n828565 With Real-Time Data and SDES-Update concentration\n828566 With Real-Time Data and SDES-Update concentration\n828567 With Real-Time Data and SDES-Update concentration\n828568 With Real-Time Data and SDES-Update concentration\n828569 With Real-Time Data and SDES-Update concentration\n828570 With Real-Time Data and SDES-Update concentration\n828571 With Real-Time Data and SDES-Update concentration\n828572 With Real-Time Data and SDES-Update concentration\n828573 With Real-Time Data and SDES-Update concentration\n828574 With Real-Time Data and SDES-Update concentration\n828575 With Real-Time Data and SDES-Update concentration\n828576 With Real-Time Data and SDES-Update concentration"
     },
     "metadata": {},
     "output_type": "display_data"
    }
   ],
   "source": [
    "data <- bind_rows(\n",
    "  data_dwh,\n",
    "  data_osm,\n",
    "  data_assim,\n",
    "  data_sdes\n",
    ")\n",
    "\n",
    "data"
   ]
  },
  {
   "cell_type": "code",
   "execution_count": 116,
   "metadata": {},
   "outputs": [
    {
     "name": "stderr",
     "output_type": "stream",
     "text": [
      "`summarise()` has grouped output by 'date', 'taxon', 'station'. You can override using the `.groups` argument.\n",
      "\n",
      "Warning message:\n",
      "“Removed 5 row(s) containing missing values (geom_path).”\n"
     ]
    }
   ],
   "source": [
    "gg_timeseries <- data %>%\n",
    "  filter(taxon == \"Alnus\",\n",
    "        station == \"Zürich\",\n",
    "        between(datetime, as_datetime(\"2020-01-01 00:00:00\"), as_datetime(\"2020-04-01 00:00:00\"))) %>%\n",
    "        group_by(date, taxon, station, type) %>%\n",
    "        summarise(value = mean(value, na.rm = TRUE)) %>%\n",
    "  ggplot(aes(x = date, y = value, col = type)) +\n",
    "  geom_line(alpha = 0.6) +\n",
    "  scale_color_manual(values = swatch()[c(3, 2, 4, 5)]) +\n",
    "  theme(legend.position=\"bottom\", legend.title=element_blank()) +\n",
    "  xlab(\"2020\") +\n",
    "  ylab(\"Daily Alnus Concentration [m^-3]\") +\n",
    "  ggtitle(\"Daily Alnus Concentrations in Zürich - 2020 Season\")\n",
    "\n",
    "  ggsave(paste0(here(), \"/timeseries.png\"), gg_timeseries, width = 24, height = 13.5, dpi = 300, units = c(\"cm\"))"
   ]
  }
 ],
 "metadata": {
  "kernelspec": {
   "display_name": "R",
   "language": "R",
   "name": "ir"
  },
  "language_info": {
   "codemirror_mode": "r",
   "file_extension": ".r",
   "mimetype": "text/x-r-source",
   "name": "R",
   "pygments_lexer": "r",
   "version": "4.0.3"
  },
  "orig_nbformat": 2
 },
 "nbformat": 4,
 "nbformat_minor": 2
}