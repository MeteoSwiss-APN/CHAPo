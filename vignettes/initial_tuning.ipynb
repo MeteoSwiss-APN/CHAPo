{
 "cells": [
  {
   "cell_type": "code",
   "execution_count": null,
   "source": [
    "library(readr)\n",
    "library(dplyr)\n",
    "library(tidyr)\n",
    "library(stringr)\n",
    "library(magrittr)\n",
    "library(padr)\n",
    "library(kableExtra)\n",
    "library(purrr)\n",
    "library(ggplot2)\n",
    "library(ggthemr)\n",
    "library(here)\n",
    "library(lubridate)\n",
    "# library(caret)\n",
    "# library(scales)\n",
    "ggthemr(\"fresh\")\n",
    "devtools::load_all()"
   ],
   "outputs": [],
   "metadata": {}
  },
  {
   "cell_type": "code",
   "execution_count": null,
   "source": [
    "load(paste0(here(), \"/data/other/species.RData\"))\n",
    "load(paste0(here(), \"/data/other/stations.RData\"))"
   ],
   "outputs": [],
   "metadata": {}
  },
  {
   "cell_type": "code",
   "execution_count": null,
   "source": [
    "data_dwh <- import_data_dwh(paste0(here(), \"/data/dwh/pollen_dwh_daily.txt\"))\n",
    "  "
   ],
   "outputs": [],
   "metadata": {}
  },
  {
   "cell_type": "code",
   "execution_count": null,
   "source": [
    "\n",
    "\n",
    "data_dwh <- import_data_dwh(paste0(here(), \"/data/dwh/pollen_dwh_daily.txt\"))\n",
    "\n",
    "data_alnu20 <- import_data_cosmo(\"/scratch/sadamov/wd/20_alnu_pheno_v2/mod_pollen_combined.txt\", type = \"Phenology V2\")\n",
    "data_alnu20 %<>% mutate(value = 0.6 * value)\n",
    "data_alnu19 <- import_data_cosmo(\"/scratch/sadamov/wd/19_alnu_pheno_v2/mod_pollen_combined.txt\", type = \"Phenology V2\")\n",
    "data_alnu19 %<>% mutate(value = 0.6 * value)\n",
    "data_betu20 <- import_data_cosmo(\"/scratch/sadamov/wd/20_betu_pheno_v2/mod_pollen_combined.txt\", type = \"Phenology V2\")\n",
    "data_betu19 <- import_data_cosmo(\"/scratch/sadamov/wd/19_betu_pheno_v2/mod_pollen_combined.txt\", type = \"Phenology V2\")\n",
    "data_poac20 <- import_data_cosmo(\"/scratch/sadamov/wd/20_poac_pheno_v2/mod_pollen_combined.txt\", type = \"Phenology V2\")\n",
    "data_poac19 <- import_data_cosmo(\"/scratch/sadamov/wd/19_poac_pheno_v2/mod_pollen_combined.txt\", type = \"Phenology V2\")\n",
    "\n",
    "data_list <- list(\n",
    "  alnu20 = data_alnu20,\n",
    "  alnu19 = data_alnu19,\n",
    "  betu20 = data_betu20,\n",
    "  betu19 = data_betu19,\n",
    "  poac20 = data_poac20,\n",
    "  poac19 = data_poac19\n",
    ")\n",
    "\n",
    "data_daily_list <- map(data_list, ~ .x %>%\n",
    "  aggregate_pollen() %>%\n",
    "  impute_daily() %>%\n",
    "  filter(measurement == \"concentration\"))\n",
    "\n",
    "data_daily <- data_daily_list %>% bind_rows()\n",
    "\n",
    "data_dwh %<>% impute_daily()\n",
    "\n",
    "data_daily_comp <- data_dwh %>%\n",
    "  select(date, taxon, station, obs = value) %>%\n",
    "  right_join(data_daily, by = c(\"taxon\", \"date\", \"station\")) %>%\n",
    "  select(date, taxon, station, obs, value)"
   ],
   "outputs": [],
   "metadata": {}
  },
  {
   "cell_type": "code",
   "execution_count": null,
   "source": [
    "stations$station\n",
    "pol_tuning <- tibble(taxon = rep(c(\"Alnus\", \"Betula\", \"Poaceae\"), each = 14),\n",
    "  tuning_orig = rep(c(0.34, 0.63, 0.26), each = 14),\n",
    "  station = rep(stations$station, times = 3))\n",
    "\n",
    "data_daily_comp %>%\n",
    "  group_by(station, taxon) %>%\n",
    "  summarise(obs = sum(obs, na.rm = TRUE),\n",
    "            value = sum(value, na.rm = TRUE)) %>%\n",
    "  ungroup() %>%\n",
    "  mutate(tuning = obs / value) %>%\n",
    "  left_join(pol_tuning, by = c(\"station\", \"taxon\")) %>%\n",
    "  mutate(tuning_new = tuning * tuning_orig) %>%\n",
    "  arrange(taxon, station)"
   ],
   "outputs": [],
   "metadata": {}
  }
 ],
 "metadata": {
  "kernelspec": {
   "display_name": "R",
   "language": "R",
   "name": "ir"
  },
  "language_info": {
   "name": "R",
   "version": ""
  },
  "orig_nbformat": 2
 },
 "nbformat": 4,
 "nbformat_minor": 2
}