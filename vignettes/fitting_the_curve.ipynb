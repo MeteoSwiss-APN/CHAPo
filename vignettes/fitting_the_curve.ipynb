{
 "metadata": {
  "language_info": {
   "codemirror_mode": {
    "name": "ipython",
    "version": 3
   },
   "file_extension": ".py",
   "mimetype": "text/x-python",
   "name": "python",
   "nbconvert_exporter": "python",
   "pygments_lexer": "ipython3",
   "version": "3.6.8-final"
  },
  "orig_nbformat": 2,
  "kernelspec": {
   "name": "ir",
   "display_name": "R",
   "language": "R"
  }
 },
 "nbformat": 4,
 "nbformat_minor": 2,
 "cells": [
  {
   "cell_type": "code",
   "execution_count": null,
   "metadata": {},
   "outputs": [],
   "source": [
    "library(sicegar)\n",
    "library(dplyr)\n",
    "library(tidyr)\n",
    "library(readr)\n",
    "library(purrr)\n",
    "library(here)\n",
    "library(lubridate)\n",
    "library(ggplot2)\n",
    "library(scales)\n"
   ]
  },
  {
   "source": [
    "Data Import and Preparation"
   ],
   "cell_type": "markdown",
   "metadata": {}
  },
  {
   "cell_type": "code",
   "execution_count": null,
   "metadata": {},
   "outputs": [],
   "source": [
    "pollen_daily <- read_delim(paste0(here(), \"/data/dwh/pollen_dwh_daily.txt\"), delim = \" \", skip = 17, trim_ws = TRUE)\n",
    "pollen_daily %<>% \n",
    "    mutate(across(is.numeric, ~ if_else(. < 0, NA_real_, .)),\n",
    "    # datetime = ymd_hm(paste0(YYYY, \"-\", sprintf(\"%02d\", MM), \"-\", sprintf(\"%02d\", DD), \" \", sprintf(\"%02d\", HH), \":\", sprintf(\"%02d\", mm))),\n",
    "    monthday = paste0(sprintf(\"%02d\", MM), sprintf(\"%02d\", DD))) %>%\n",
    "    select(-(YYYY:mm)) %>%\n",
    "    setNames(tolower(names(.))) %>%\n",
    "    pivot_longer(plo:pcf, names_to = \"station\", values_to = \"conc\") %>%\n",
    "    group_by(parameter, station, monthday) %>%\n",
    "    summarise(conc = mean(conc, na.rm = TRUE)) %>%\n",
    "    ungroup() %>%\n",
    "    filter(monthday != \"0229\") %>%\n",
    "    mutate(datetime = ymd(paste0(\"2001\", monthday))) %>%\n",
    "    split(.$parameter)\n",
    "pollen_daily\n",
    "\n",
    "\n"
   ]
  },
  {
   "cell_type": "code",
   "execution_count": null,
   "metadata": {},
   "outputs": [],
   "source": [
    "pollen_daily_sum <- map(pollen_daily, ~.x %>%\n",
    "    group_by(parameter, monthday) %>%\n",
    "    summarise(conc = sum(conc, na.rm = TRUE)) %>%\n",
    "    ungroup() %>%\n",
    "    mutate(time = 1:365,\n",
    "    intensity = rescale(conc)) %>%\n",
    "    select(time, intensity))\n",
    "pollen_daily_sum"
   ]
  },
  {
   "source": [
    "Timeseries Plots"
   ],
   "cell_type": "markdown",
   "metadata": {}
  },
  {
   "cell_type": "code",
   "execution_count": null,
   "metadata": {},
   "outputs": [],
   "source": [
    "map(pollen_daily, ~\n",
    "    ggplot(.x, aes(x = datetime, y = conc, col = station, fill = station)) +\n",
    "    geom_col() +\n",
    "    ggtitle(paste(\"Average Daily\", unique(.x$parameter), \"Pollen Concentrations for the years 2000-2020\")) +\n",
    "    scale_x_date(date_labels = \"%b\", date_breaks = \"1 month\"))"
   ]
  },
  {
   "cell_type": "code",
   "execution_count": null,
   "metadata": {},
   "outputs": [],
   "source": [
    "normalizedInput <- normalizeData(dataInput = pollen_daily_sum[[1]], \n",
    "                                                dataInputName = \"doubleSigmoidalSample\")\n",
    "# Fit double-sigmoidal model\n",
    "doubleSigmoidalModel <- multipleFitFunction(dataInput = normalizedInput,\n",
    "                                                model = \"doublesigmoidal\",\n",
    "                                                n_runs_min = 20,\n",
    "                                                n_runs_max = 500,\n",
    "                                                showDetails = FALSE)                                                \n",
    "# Calculate additional parameters\n",
    "doubleSigmoidalModel <- parameterCalculation(doubleSigmoidalModel)\n",
    "\n",
    "# Plotting the model\n",
    "figureModelCurves(dataInput = normalizedInput,\n",
    "doubleSigmoidalFitVector = doubleSigmoidalModel,\n",
    "showParameterRelatedLines = TRUE)"
   ]
  },
  {
   "cell_type": "code",
   "execution_count": null,
   "metadata": {},
   "outputs": [],
   "source": [
    "params <- parameterCalculation(doubleSigmoidalModel)\n",
    "params %<>% \n",
    "    mutate(across(everything(), as.character)) %>%\n",
    "    pivot_longer(everything())\n",
    "bind_cols(params %>% slice(1:35),\n",
    "          params %>% slice(36:nrow(params)))"
   ]
  },
  {
   "cell_type": "code",
   "execution_count": null,
   "metadata": {},
   "outputs": [],
   "source": []
  }
 ]
}