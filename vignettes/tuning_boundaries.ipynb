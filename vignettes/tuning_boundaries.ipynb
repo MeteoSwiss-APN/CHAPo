{
    "cells": [
        {
            "cell_type": "markdown",
            "metadata": {},
            "source": [
                "# Tuning Factor Boundaries\n",
                "\n",
                "In this vignette boundaries (min/max values) for the pollen tuning factors are calculated.\n",
                "These tuning factors are adjusted in real-time in Cosmo based on measurements.\n",
                "To prevent any unforseen extreme values boundaries are set based on pollen climatology 2010-2020."
            ]
        },
        {
            "cell_type": "code",
            "execution_count": null,
            "metadata": {},
            "outputs": [],
            "source": [
                "renv::load(here::here())\n",
                "library(readr)\n",
                "library(dplyr)\n",
                "library(tidyr)\n",
                "library(stringr)\n",
                "library(magrittr)\n",
                "library(padr)\n",
                "library(kableExtra)\n",
                "library(purrr)\n",
                "library(ggplot2)\n",
                "library(ggthemr)\n",
                "library(here)\n",
                "library(lubridate)\n",
                "library(AeRobiology)\n",
                "\n",
                "ggthemr(\"fresh\")\n",
                "devtools::load_all()\n",
                "\n",
                "load(paste0(here(), \"/data/other/species.RData\"))\n",
                "load(paste0(here(), \"/data/other/stations.RData\"))\n",
                "species %<>%\n",
                "  mutate(fieldextra_taxon = str_replace_all(fieldextra_taxon, \"1\", \"24\"))\n",
                "data_dwh <- import_data_dwh(paste0(here(), \"/data/dwh/pollen_dwh_daily.txt\"))\n"
            ]
        },
        {
            "cell_type": "markdown",
            "metadata": {},
            "source": [
                "We are working with the 10 most recent years of pollen climatology, as the seasons are affected by\n",
                "climate change. Generally, the pollen season for many species might start earlier and become more\n",
                "intense.\n",
                "The values below were historically used as fixed tuning factors as provided in the lm_c namelist.\n",
                "The new 2D-tune fields adjusted in the `update_strength_realtime()` subroutine from the \n",
                "pol_seasons.f90 module of the cosmo source code, start out with this factor and are being adjusted \n",
                "in realtime."
            ]
        },
        {
            "cell_type": "code",
            "execution_count": null,
            "metadata": {},
            "outputs": [],
            "source": [
                "pollen_split <- data_dwh %>%\n",
                "  filter(date >= as.Date(\"2010-01-01\"),\n",
                "         date <= as.Date(\"2020-12-31\")) %>%\n",
                "  mutate(year = year(date),\n",
                "         tuning_factor_orig = case_when(\n",
                "           taxon == \"Corylus\" ~ 1.0, # This factor is a rough approximation as it has never been exactly defined\n",
                "           taxon == \"Alnus\" ~ 1.0,\n",
                "           taxon == \"Betula\" ~ 1.0,\n",
                "           taxon == \"Poaceae\" ~ 1.0\n",
                "         )) %>%\n",
                "  select(taxon, station, year, datetime, value, tuning_factor_orig) %>%\n",
                "  split(.$taxon) %>%\n",
                "    map(~ .x %>% split(list(.$year, .$station)))"
            ]
        },
        {
            "cell_type": "markdown",
            "metadata": {},
            "source": [
                "The pollen seasons are retrieved based on the definition used in XXXX"
            ]
        },
        {
            "cell_type": "code",
            "execution_count": null,
            "metadata": {},
            "outputs": [],
            "source": [
                "\n",
                "season_def_alnu <- map(pollen_split$Alnus, ~.x %>%\n",
                "  select(datetime, value) %>%\n",
                "  calculate_ps(\n",
                "    method = \"clinical\",\n",
                "    n.clinical = 5,\n",
                "    window.clinical = 7,\n",
                "    th.pollen = 10,\n",
                "    th.sum = 100,\n",
                "    plot = FALSE,\n",
                "    result = \"table\"\n",
                "  ))\n",
                "\n",
                "season_def_betu <- map(pollen_split$Betula, ~.x %>%\n",
                "  select(datetime, value) %>%\n",
                "  calculate_ps(\n",
                "    method = \"clinical\",\n",
                "    n.clinical = 5,\n",
                "    window.clinical = 7,\n",
                "    th.pollen = 10,\n",
                "    th.sum = 100,\n",
                "    plot = FALSE,\n",
                "    result = \"table\"\n",
                "  ))\n",
                "\n",
                "season_def_cory <- map(pollen_split$Corylus, ~.x %>%\n",
                "  select(datetime, value) %>%\n",
                "  calculate_ps(\n",
                "    method = \"clinical\",\n",
                "    n.clinical = 5,\n",
                "    window.clinical = 7,\n",
                "    th.pollen = 10,\n",
                "    th.sum = 100,\n",
                "    plot = FALSE,\n",
                "    result = \"table\"\n",
                "  ))\n",
                "\n",
                "\n",
                "season_def_poac <- map(pollen_split$Poaceae, ~.x %>%\n",
                "  select(datetime, value) %>%\n",
                "  calculate_ps(\n",
                "    method = \"clinical\",\n",
                "    n.clinical = 5,\n",
                "    window.clinical = 7,\n",
                "    th.pollen = 3,\n",
                "    th.sum = 30,\n",
                "    plot = FALSE,\n",
                "    result = \"table\"\n",
                "  ))\n",
                "\n",
                "season_def <- c(season_def_alnu, season_def_betu, season_def_cory, season_def_poac)\n",
                "\n",
                "season_start <- map(season_def, ~ .x$st.jd) %>% unlist\n",
                "season_end <- map(season_def, ~ .x$en.jd) %>% unlist\n",
                "\n",
                "pollen_clean <- unlist(pollen_split, recursive = FALSE)\n",
                "pollen_clean <- pollen_clean[-which(is.na(season_start))]\n",
                "season_start <- season_start[!is.na(season_start)]\n",
                "season_end <- season_end[!is.na(season_end)]\n",
                "\n",
                "pollen_in_season <- pmap(list(pollen_clean, season_start, season_end), ~\n",
                "..1 %>%\n",
                "  slice(..2:..3)) %>%\n",
                "  bind_rows()\n"
            ]
        },
        {
            "cell_type": "markdown",
            "metadata": {},
            "source": [
                "An average pollen sum is calculated for the period 2010-2020. Every year is then compared to this\n",
                "average season to identify the range of historic pollen factors. As we expect the season intensity\n",
                "to increase due to climate change and to account for statistical variance, the boundaries are\n",
                "slightly modified, to allow for more extreme seasons to occur. The lower threshold is also decreased\n",
                "to counter-effect the impact of wrong precipitation events in the model. For those days, the pollen\n",
                "emission should be allowed to reach almost zero."
            ]
        },
        {
            "cell_type": "code",
            "execution_count": null,
            "metadata": {},
            "outputs": [],
            "source": [
                "pollen_in_season %>%\n",
                "  group_by(taxon, station, tuning_factor_orig) %>%\n",
                "  mutate(average_season = sum(value, na.rm = TRUE) / length(unique(pollen_in_season$year))) %>%\n",
                "  group_by(taxon, station, year, tuning_factor_orig, average_season) %>%\n",
                "  summarise(current_season = sum(value, na.rm = TRUE)) %>%\n",
                "  ungroup() %>%\n",
                "  mutate(tuning_factor_current = tuning_factor_orig / average_season * current_season) %>%\n",
                "  group_by(taxon) %>%\n",
                "  summarise(max = max(tuning_factor_current) * 1.2,\n",
                "  min = min(tuning_factor_current) * 0.9)\n"
            ]
        }
    ],
    "metadata": {
        "interpreter": {
            "hash": "048529a6517264b5483e310a22e25f915a06281e7a6f1d96458991c0a653eb72"
        },
        "kernelspec": {
            "display_name": "R",
            "language": "R",
            "name": "ir"
        },
        "language_info": {
            "codemirror_mode": "r",
            "file_extension": ".r",
            "mimetype": "text/x-r-source",
            "name": "R",
            "pygments_lexer": "r",
            "version": "4.0.3"
        },
        "orig_nbformat": 4
    },
    "nbformat": 4,
    "nbformat_minor": 2
}
