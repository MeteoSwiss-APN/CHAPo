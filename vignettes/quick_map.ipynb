{
 "cells": [
  {
   "cell_type": "code",
   "execution_count": null,
   "metadata": {},
   "outputs": [],
   "source": [
    "library(ncdf4)\n",
    "library(raster)\n",
    "\n",
    "for (model_version in c(\"osm\")) {\n",
    "  i <- 1\n",
    "  date <- 20033100\n",
    "  nc_path <- paste0(\"/scratch/sadamov/wd/20_poac_\", model_version, \"/\", date, \"_c1e_tsa_poac_\", model_version, \"/lm_coarse/lfff00150000\") # This can be any netCDF file with POAC (e.g.)\n",
    "  variable <- \"POAC\"\n",
    "  # If running in a container \n",
    "  print(paste0(\"fxfilter --force -s \", variable, \" \", nc_path, \" -o \", nc_path, \"_filtered\"))\n",
    "  print(paste0(\"fxconvert --force nc \", nc_path, \"_filtered -o \", nc_path, \"_filtered.nc\"))\n",
    "\n",
    "  # system(paste0(\"fxfilter --force -s \", variable, \" \", nc_path, \" -o \", nc_path, \"_filtered\"))\n",
    "  # system(paste0(\"fxconvert --force nc \", nc_path, \"_filtered -o \", nc_path, \"_filtered.nc\"))\n",
    "\n",
    "  con <- nc_open(paste0(nc_path, \"_filtered.nc\"))\n",
    "  if (con$ndims == 5) {\n",
    "    layer <- ncvar_get(con, paste(variable))[, , 80]\n",
    "  } else {\n",
    "    layer <- ncvar_get(con, paste(variable))\n",
    "  }\n",
    "  x <- ncvar_get(con, \"lon_1\")\n",
    "  y <- ncvar_get(con, \"lat_1\")\n",
    "  nc_close(con)\n",
    "\n",
    "  if (variable %in% c(\"ALNU\", \"ALNUress\", \"ALNUreso\", \"ALNUfe \", \n",
    "                      \"POAC\", \"POACress\", \"POACreso\", \"POACfe \")){\n",
    "    layer <- log10(layer + 1)\n",
    "  }\n",
    "\n",
    "  if (i == 1){\n",
    "    limits <- c(min(layer), max(layer))\n",
    "  }\n",
    "\n",
    "  r <- raster(layer,\n",
    "    xmn = min(x), xmx = max(x),\n",
    "    ymn = min(y), ymx = max(y), \n",
    "    crs = crs(paste('+units=m +a=6367470 +o_proj=longlat +b=6367470',\n",
    "                      '+o_lat_p=43.0 +lon_0=10.0 +proj=ob_tran +o_lon_p=0.0'))\n",
    "  )\n",
    "\n",
    "  pal <- colorRampPalette(c(\"#4da17a\", \"#d32323\"))\n",
    "  plot(\n",
    "    r,\n",
    "  zlim = limits,\n",
    "  col = pal(30),\n",
    "  main = paste(model_version, date, variable))\n",
    "  i = 0\n",
    "}"
   ]
  }
 ],
 "metadata": {
  "kernelspec": {
   "display_name": "R",
   "language": "R",
   "name": "ir"
  },
  "language_info": {
   "codemirror_mode": "r",
   "file_extension": ".r",
   "mimetype": "text/x-r-source",
   "name": "R",
   "pygments_lexer": "r",
   "version": "4.0.3"
  },
  "orig_nbformat": 2
 },
 "nbformat": 4,
 "nbformat_minor": 2
}